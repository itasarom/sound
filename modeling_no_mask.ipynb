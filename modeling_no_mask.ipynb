{
 "cells": [
  {
   "cell_type": "code",
   "execution_count": 1,
   "metadata": {},
   "outputs": [],
   "source": [
    "import numpy as np\n",
    "import pandas as pd\n",
    "\n",
    "import os\n",
    "import glob\n",
    "import librosa\n",
    "import tqdm\n",
    "import pickle\n",
    "\n",
    "from collections import Counter, defaultdict\n",
    "\n",
    "from torchvision.datasets.folder import default_loader\n",
    "from torch.utils.data import TensorDataset, DataLoader\n",
    "from torch import nn\n",
    "import torch.nn.functional as F\n",
    "import torch\n",
    "\n",
    "DATA_PATH = './data'\n",
    "join_path = lambda path: os.path.join(DATA_PATH, path)"
   ]
  },
  {
   "cell_type": "code",
   "execution_count": 2,
   "metadata": {},
   "outputs": [],
   "source": [
    "filepaths = glob.glob(join_path('train_curated/*')) # именно в таком порядке будут идти все аудиозаписи\n",
    "\n",
    "train = pd.read_csv(join_path('train_curated.csv')).set_index('fname')\n",
    "\n",
    "cats = list(set(sum(list(train['labels'].str.split(',').values), [])))\n",
    "\n",
    "train['enc_labels'] = train['labels'].str.split(',').apply(lambda x: [int(label in x) for label in cats])\n",
    "\n",
    "targets = np.array(train.loc[[fp[-12:] for fp in filepaths], 'enc_labels'].tolist())"
   ]
  },
  {
   "cell_type": "code",
   "execution_count": 3,
   "metadata": {},
   "outputs": [],
   "source": [
    "with open(join_path('train_curated_mels.pkl'), 'rb') as f:\n",
    "    data = pickle.load(f)"
   ]
  },
  {
   "cell_type": "code",
   "execution_count": 4,
   "metadata": {},
   "outputs": [],
   "source": [
    "import mclnn\n",
    "base = nn.Sequential(\n",
    "    mclnn.CLNNModule(128, 256, 4, dilation=1),\n",
    "    nn.LeakyReLU(),\n",
    "    mclnn.BatchNorm(256),\n",
    "    mclnn.CLNNModule(256, 256, 4, dilation=1),\n",
    "    nn.LeakyReLU(),\n",
    "    mclnn.TemporalPool(2),\n",
    "    mclnn.BatchNorm(256),\n",
    "    mclnn.CLNNModule(256, 256, 4, dilation=1),\n",
    "    nn.LeakyReLU(),\n",
    "    mclnn.TemporalPool(2),\n",
    "    mclnn.CLNNModule(256, 256, 4),\n",
    "    nn.LeakyReLU(),\n",
    "    mclnn.TemporalPool(4),\n",
    "    mclnn.BatchNorm(256),\n",
    "    mclnn.Flatten(),\n",
    "    nn.Linear(256*8, 1024),\n",
    "    nn.LeakyReLU(),\n",
    "    nn.Linear(1024, 80)\n",
    ")\n",
    "\n",
    "class W(nn.Module):\n",
    "    def __init__(self, model):\n",
    "        super().__init__()\n",
    "        self.model = model\n",
    "\n",
    "        \n",
    "    def forward(self, input):\n",
    "        input = input.squeeze(1)\n",
    "        return self.model(input)\n",
    "    \n",
    "model = W(base)"
   ]
  },
  {
   "cell_type": "code",
   "execution_count": null,
   "metadata": {},
   "outputs": [],
   "source": []
  },
  {
   "cell_type": "code",
   "execution_count": 5,
   "metadata": {},
   "outputs": [],
   "source": [
    "# pip install scikit-multilearn \n",
    "from skmultilearn.model_selection import iterative_train_test_split\n",
    "\n",
    "train_X, train_y, test_X, test_y = iterative_train_test_split(X=data, y=targets, test_size=0.1)"
   ]
  },
  {
   "cell_type": "code",
   "execution_count": 6,
   "metadata": {},
   "outputs": [],
   "source": [
    "train_ds = TensorDataset(torch.tensor(train_X).unsqueeze(1), torch.tensor(train_y).float())\n",
    "val_ds = TensorDataset(torch.tensor(test_X).unsqueeze(1), torch.tensor(test_y).float())\n",
    "\n",
    "train_dl = DataLoader(train_ds, batch_size=64)\n",
    "val_dl = DataLoader(val_ds, batch_size=64)"
   ]
  },
  {
   "cell_type": "code",
   "execution_count": 7,
   "metadata": {},
   "outputs": [],
   "source": [
    "device = torch.device('cuda' if torch.cuda.is_available() else 'cpu')\n",
    "# model = Model(num_classes=80)\n",
    "logdir = join_path('logdir')\n",
    "criterion = nn.BCEWithLogitsLoss()\n",
    "optimizer = torch.optim.Adam(model.parameters(), lr=1e-3)"
   ]
  },
  {
   "cell_type": "code",
   "execution_count": 8,
   "metadata": {},
   "outputs": [
    {
     "name": "stderr",
     "output_type": "stream",
     "text": [
      "WARNING:root:This caffe2 python run does not have GPU support. Will run in CPU only mode.\n",
      "WARNING:root:Debug message: /opt/caffe2/build/caffe2/python/caffe2_pybind11_state_gpu.so: undefined symbol: _ZN5fLI6438FLAGS_caffe2_max_keep_on_shrink_memoryE\n",
      "CRITICAL:root:Cannot load caffe2.python. Error: /opt/caffe2/build/caffe2/python/caffe2_pybind11_state.so: undefined symbol: _ZN5fLI6438FLAGS_caffe2_max_keep_on_shrink_memoryE\n"
     ]
    }
   ],
   "source": [
    "from kirill.flame import Trainer # мой небольшой пайплайн для тренировки сеток\n",
    "\n",
    "trainer = Trainer(model, optimizer, criterion, device, logdir)"
   ]
  },
  {
   "cell_type": "code",
   "execution_count": 12,
   "metadata": {},
   "outputs": [
    {
     "name": "stdout",
     "output_type": "stream",
     "text": [
      "  1 epoch. train: 0.00048. val: 0.00086. time: 5.031s.\n",
      "  2 epoch. train: 0.00043. val: 0.00085. time: 13.961s.\n",
      "  3 epoch. train: 0.00038. val: 0.00088. time: 22.973s.\n",
      "  4 epoch. train: 0.00033. val: 0.00095. time: 31.990s.\n",
      "  5 epoch. train: 0.00028. val: 0.00105. time: 41.023s.\n",
      "  6 epoch. train: 0.00024. val: 0.00103. time: 50.071s.\n",
      "  7 epoch. train: 0.00022. val: 0.00098. time: 59.134s.\n",
      "  8 epoch. train: 0.00018. val: 0.00109. time: 68.230s.\n",
      "  9 epoch. train: 0.00016. val: 0.00110. time: 77.352s.\n",
      " 10 epoch. train: 0.00013. val: 0.00119. time: 86.451s.\n",
      " 11 epoch. train: 0.00011. val: 0.00121. time: 95.603s.\n",
      " 12 epoch. train: 0.00009. val: 0.00119. time: 104.797s.\n",
      " 13 epoch. train: 0.00007. val: 0.00127. time: 113.968s.\n",
      " 14 epoch. train: 0.00005. val: 0.00128. time: 123.109s.\n",
      " 15 epoch. train: 0.00004. val: 0.00128. time: 132.214s.\n",
      " 16 epoch. train: 0.00003. val: 0.00132. time: 141.133s.\n",
      " 17 epoch. train: 0.00003. val: 0.00135. time: 150.281s.\n",
      " 18 epoch. train: 0.00002. val: 0.00140. time: 159.404s.\n",
      " 19 epoch. train: 0.00002. val: 0.00135. time: 168.518s.\n",
      " 20 epoch. train: 0.00002. val: 0.00141. time: 177.586s.\n",
      " 21 epoch. train: 0.00002. val: 0.00142. time: 186.713s.\n",
      " 22 epoch. train: 0.00002. val: 0.00149. time: 195.528s.\n",
      " 23 epoch. train: 0.00002. val: 0.00155. time: 204.686s.\n",
      " 24 epoch. train: 0.00002. val: 0.00154. time: 213.849s.\n",
      " 25 epoch. train: 0.00002. val: 0.00155. time: 223.025s.\n",
      " 26 epoch. train: 0.00002. val: 0.00151. time: 232.186s.\n",
      " 27 epoch. train: 0.00002. val: 0.00158. time: 241.349s.\n",
      " 28 epoch. train: 0.00003. val: 0.00161. time: 250.481s.\n",
      " 29 epoch. train: 0.00003. val: 0.00163. time: 259.641s.\n",
      " 30 epoch. train: 0.00002. val: 0.00158. time: 268.767s.\n",
      " 31 epoch. train: 0.00002. val: 0.00164. time: 277.956s.\n",
      " 32 epoch. train: 0.00003. val: 0.00164. time: 287.134s.\n",
      " 33 epoch. train: 0.00002. val: 0.00168. time: 296.280s.\n",
      " 34 epoch. train: 0.00002. val: 0.00165. time: 305.459s.\n",
      " 35 epoch. train: 0.00002. val: 0.00176. time: 314.612s.\n",
      " 36 epoch. train: 0.00002. val: 0.00169. time: 323.748s.\n",
      " 37 epoch. train: 0.00003. val: 0.00171. time: 332.681s.\n",
      " 38 epoch. train: 0.00002. val: 0.00179. time: 341.857s.\n",
      " 39 epoch. train: 0.00002. val: 0.00179. time: 350.865s.\n",
      " 40 epoch. train: 0.00002. val: 0.00174. time: 360.027s.\n",
      " 41 epoch. train: 0.00002. val: 0.00182. time: 369.181s.\n",
      " 42 epoch. train: 0.00002. val: 0.00182. time: 378.360s.\n",
      " 43 epoch. train: 0.00003. val: 0.00175. time: 387.460s.\n",
      " 44 epoch. train: 0.00002. val: 0.00173. time: 396.407s.\n",
      " 45 epoch. train: 0.00003. val: 0.00175. time: 405.565s.\n",
      " 46 epoch. train: 0.00002. val: 0.00172. time: 414.715s.\n",
      " 47 epoch. train: 0.00002. val: 0.00184. time: 423.891s.\n",
      " 48 epoch. train: 0.00002. val: 0.00181. time: 433.053s.\n",
      " 49 epoch. train: 0.00003. val: 0.00187. time: 442.211s.\n",
      " 50 epoch. train: 0.00003. val: 0.00187. time: 451.361s.\n",
      " 51 epoch. train: 0.00002. val: 0.00186. time: 460.525s.\n",
      " 52 epoch. train: 0.00002. val: 0.00200. time: 469.672s.\n",
      " 53 epoch. train: 0.00001. val: 0.00199. time: 478.832s.\n",
      " 54 epoch. train: 0.00001. val: 0.00199. time: 488.007s.\n",
      " 55 epoch. train: 0.00001. val: 0.00200. time: 497.141s.\n",
      " 56 epoch. train: 0.00001. val: 0.00199. time: 506.054s.\n",
      " 57 epoch. train: 0.00001. val: 0.00203. time: 515.243s.\n",
      " 58 epoch. train: 0.00001. val: 0.00192. time: 524.403s.\n",
      " 59 epoch. train: 0.00001. val: 0.00197. time: 533.556s.\n",
      " 60 epoch. train: 0.00000. val: 0.00208. time: 542.726s.\n",
      " 61 epoch. train: 0.00001. val: 0.00205. time: 551.887s.\n",
      " 62 epoch. train: 0.00001. val: 0.00205. time: 560.780s.\n",
      " 63 epoch. train: 0.00002. val: 0.00202. time: 569.950s.\n",
      " 64 epoch. train: 0.00003. val: 0.00201. time: 579.081s.\n",
      " 65 epoch. train: 0.00005. val: 0.00193. time: 588.154s.\n",
      " 66 epoch. train: 0.00004. val: 0.00192. time: 597.279s.\n",
      " 67 epoch. train: 0.00004. val: 0.00208. time: 606.439s.\n",
      " 68 epoch. train: 0.00003. val: 0.00204. time: 615.594s.\n",
      " 69 epoch. train: 0.00001. val: 0.00200. time: 624.732s.\n",
      " 70 epoch. train: 0.00001. val: 0.00207. time: 633.858s.\n",
      " 71 epoch. train: 0.00001. val: 0.00205. time: 642.983s.\n",
      " 72 epoch. train: 0.00000. val: 0.00208. time: 652.131s.\n",
      " 73 epoch. train: 0.00000. val: 0.00208. time: 661.301s.\n",
      " 74 epoch. train: 0.00000. val: 0.00211. time: 670.462s.\n",
      " 75 epoch. train: 0.00000. val: 0.00216. time: 679.601s.\n",
      " 76 epoch. train: 0.00000. val: 0.00215. time: 688.747s.\n",
      " 77 epoch. train: 0.00000. val: 0.00214. time: 697.915s.\n",
      " 78 epoch. train: 0.00001. val: 0.00217. time: 707.082s.\n",
      " 79 epoch. train: 0.00001. val: 0.00219. time: 716.211s.\n",
      " 80 epoch. train: 0.00001. val: 0.00210. time: 725.366s.\n",
      " 81 epoch. train: 0.00001. val: 0.00217. time: 734.540s.\n",
      " 82 epoch. train: 0.00001. val: 0.00210. time: 743.704s.\n",
      " 83 epoch. train: 0.00002. val: 0.00216. time: 752.859s.\n",
      " 84 epoch. train: 0.00003. val: 0.00233. time: 761.990s.\n",
      " 85 epoch. train: 0.00004. val: 0.00209. time: 771.109s.\n",
      " 86 epoch. train: 0.00002. val: 0.00226. time: 779.967s.\n",
      " 87 epoch. train: 0.00003. val: 0.00232. time: 789.108s.\n",
      " 88 epoch. train: 0.00002. val: 0.00209. time: 798.264s.\n",
      " 89 epoch. train: 0.00002. val: 0.00223. time: 807.436s.\n",
      " 90 epoch. train: 0.00001. val: 0.00214. time: 816.595s.\n",
      " 91 epoch. train: 0.00001. val: 0.00220. time: 825.745s.\n",
      " 92 epoch. train: 0.00000. val: 0.00225. time: 834.894s.\n",
      " 93 epoch. train: 0.00000. val: 0.00221. time: 844.049s.\n",
      " 94 epoch. train: 0.00000. val: 0.00225. time: 853.204s.\n",
      " 95 epoch. train: 0.00001. val: 0.00221. time: 862.237s.\n",
      " 96 epoch. train: 0.00000. val: 0.00224. time: 871.409s.\n",
      " 97 epoch. train: 0.00000. val: 0.00225. time: 880.565s.\n",
      " 98 epoch. train: 0.00000. val: 0.00228. time: 889.712s.\n",
      " 99 epoch. train: 0.00000. val: 0.00229. time: 898.872s.\n",
      "100 epoch. train: 0.00000. val: 0.00229. time: 907.998s.\n",
      "101 epoch. train: 0.00000. val: 0.00232. time: 917.090s.\n",
      "102 epoch. train: 0.00000. val: 0.00232. time: 926.251s.\n",
      "103 epoch. train: 0.00000. val: 0.00232. time: 935.405s.\n",
      "104 epoch. train: 0.00000. val: 0.00230. time: 944.562s.\n",
      "105 epoch. train: 0.00000. val: 0.00234. time: 953.722s.\n",
      "106 epoch. train: 0.00000. val: 0.00234. time: 962.889s.\n",
      "107 epoch. train: 0.00000. val: 0.00236. time: 972.036s.\n",
      "108 epoch. train: 0.00000. val: 0.00238. time: 981.128s.\n",
      "109 epoch. train: 0.00000. val: 0.00233. time: 990.248s.\n",
      "110 epoch. train: 0.00000. val: 0.00239. time: 999.384s.\n",
      "111 epoch. train: 0.00000. val: 0.00229. time: 1008.495s.\n",
      "112 epoch. train: 0.00001. val: 0.00220. time: 1017.620s.\n",
      "113 epoch. train: 0.00008. val: 0.00218. time: 1026.764s.\n",
      "114 epoch. train: 0.00011. val: 0.00236. time: 1035.931s.\n",
      "115 epoch. train: 0.00007. val: 0.00229. time: 1044.901s.\n",
      "116 epoch. train: 0.00004. val: 0.00227. time: 1054.018s.\n",
      "117 epoch. train: 0.00001. val: 0.00236. time: 1063.166s.\n",
      "118 epoch. train: 0.00000. val: 0.00239. time: 1072.310s.\n",
      "119 epoch. train: 0.00000. val: 0.00245. time: 1081.453s.\n",
      "120 epoch. train: 0.00000. val: 0.00247. time: 1090.638s.\n",
      "121 epoch. train: 0.00000. val: 0.00246. time: 1099.770s.\n",
      "122 epoch. train: 0.00000. val: 0.00247. time: 1108.897s.\n",
      "123 epoch. train: 0.00000. val: 0.00247. time: 1117.986s.\n",
      "124 epoch. train: 0.00000. val: 0.00245. time: 1127.136s.\n",
      "125 epoch. train: 0.00000. val: 0.00248. time: 1136.259s.\n",
      "126 epoch. train: 0.00000. val: 0.00249. time: 1145.243s.\n",
      "127 epoch. train: 0.00000. val: 0.00253. time: 1154.386s.\n",
      "128 epoch. train: 0.00000. val: 0.00249. time: 1163.516s.\n",
      "129 epoch. train: 0.00000. val: 0.00252. time: 1172.408s.\n",
      "130 epoch. train: 0.00000. val: 0.00252. time: 1181.541s.\n",
      "131 epoch. train: 0.00000. val: 0.00254. time: 1190.660s.\n",
      "132 epoch. train: 0.00000. val: 0.00253. time: 1199.798s.\n",
      "133 epoch. train: 0.00000. val: 0.00255. time: 1209.005s.\n",
      "134 epoch. train: 0.00000. val: 0.00255. time: 1218.244s.\n",
      "135 epoch. train: 0.00000. val: 0.00256. time: 1227.388s.\n",
      "136 epoch. train: 0.00000. val: 0.00255. time: 1236.532s.\n",
      "137 epoch. train: 0.00000. val: 0.00258. time: 1245.631s.\n",
      "138 epoch. train: 0.00000. val: 0.00256. time: 1254.758s.\n",
      "139 epoch. train: 0.00000. val: 0.00259. time: 1263.889s.\n",
      "140 epoch. train: 0.00000. val: 0.00256. time: 1272.942s.\n",
      "141 epoch. train: 0.00000. val: 0.00259. time: 1282.096s.\n",
      "142 epoch. train: 0.00000. val: 0.00257. time: 1291.260s.\n",
      "143 epoch. train: 0.00000. val: 0.00263. time: 1300.425s.\n"
     ]
    },
    {
     "name": "stdout",
     "output_type": "stream",
     "text": [
      "144 epoch. train: 0.00000. val: 0.00255. time: 1309.571s.\n",
      "145 epoch. train: 0.00000. val: 0.00258. time: 1318.730s.\n",
      "146 epoch. train: 0.00000. val: 0.00258. time: 1327.877s.\n",
      "147 epoch. train: 0.00000. val: 0.00261. time: 1337.052s.\n",
      "148 epoch. train: 0.00000. val: 0.00257. time: 1346.225s.\n",
      "149 epoch. train: 0.00007. val: 0.00227. time: 1355.366s.\n",
      "150 epoch. train: 0.00012. val: 0.00235. time: 1364.523s.\n",
      "151 epoch. train: 0.00007. val: 0.00235. time: 1373.653s.\n",
      "152 epoch. train: 0.00002. val: 0.00245. time: 1382.765s.\n",
      "153 epoch. train: 0.00001. val: 0.00239. time: 1391.810s.\n",
      "154 epoch. train: 0.00000. val: 0.00250. time: 1400.928s.\n",
      "155 epoch. train: 0.00000. val: 0.00260. time: 1410.084s.\n",
      "156 epoch. train: 0.00000. val: 0.00257. time: 1419.214s.\n",
      "157 epoch. train: 0.00000. val: 0.00260. time: 1428.324s.\n",
      "158 epoch. train: 0.00000. val: 0.00261. time: 1437.441s.\n",
      "159 epoch. train: 0.00000. val: 0.00261. time: 1446.603s.\n",
      "160 epoch. train: 0.00000. val: 0.00263. time: 1455.730s.\n",
      "161 epoch. train: 0.00000. val: 0.00263. time: 1464.819s.\n",
      "162 epoch. train: 0.00000. val: 0.00265. time: 1473.954s.\n",
      "163 epoch. train: 0.00000. val: 0.00262. time: 1483.109s.\n",
      "164 epoch. train: 0.00000. val: 0.00266. time: 1492.275s.\n",
      "165 epoch. train: 0.00000. val: 0.00265. time: 1501.428s.\n",
      "166 epoch. train: 0.00000. val: 0.00269. time: 1510.577s.\n",
      "167 epoch. train: 0.00000. val: 0.00265. time: 1519.740s.\n",
      "168 epoch. train: 0.00000. val: 0.00268. time: 1528.891s.\n",
      "169 epoch. train: 0.00000. val: 0.00266. time: 1538.038s.\n",
      "170 epoch. train: 0.00000. val: 0.00270. time: 1547.145s.\n",
      "171 epoch. train: 0.00000. val: 0.00267. time: 1556.278s.\n",
      "172 epoch. train: 0.00000. val: 0.00271. time: 1565.415s.\n",
      "173 epoch. train: 0.00000. val: 0.00268. time: 1574.545s.\n",
      "174 epoch. train: 0.00000. val: 0.00272. time: 1583.667s.\n",
      "175 epoch. train: 0.00000. val: 0.00270. time: 1592.781s.\n",
      "176 epoch. train: 0.00000. val: 0.00273. time: 1601.928s.\n",
      "177 epoch. train: 0.00000. val: 0.00272. time: 1611.098s.\n",
      "178 epoch. train: 0.00000. val: 0.00274. time: 1620.235s.\n",
      "179 epoch. train: 0.00000. val: 0.00273. time: 1629.414s.\n",
      "180 epoch. train: 0.00000. val: 0.00275. time: 1638.588s.\n",
      "181 epoch. train: 0.00000. val: 0.00274. time: 1647.735s.\n",
      "182 epoch. train: 0.00000. val: 0.00275. time: 1656.891s.\n",
      "183 epoch. train: 0.00000. val: 0.00274. time: 1666.056s.\n",
      "184 epoch. train: 0.00000. val: 0.00274. time: 1675.201s.\n",
      "185 epoch. train: 0.00000. val: 0.00275. time: 1684.316s.\n",
      "186 epoch. train: 0.00000. val: 0.00275. time: 1693.443s.\n",
      "187 epoch. train: 0.00000. val: 0.00277. time: 1702.557s.\n",
      "188 epoch. train: 0.00000. val: 0.00277. time: 1711.679s.\n",
      "189 epoch. train: 0.00000. val: 0.00273. time: 1720.816s.\n",
      "190 epoch. train: 0.00000. val: 0.00279. time: 1729.963s.\n",
      "191 epoch. train: 0.00000. val: 0.00272. time: 1739.094s.\n",
      "192 epoch. train: 0.00000. val: 0.00279. time: 1748.203s.\n",
      "193 epoch. train: 0.00000. val: 0.00262. time: 1757.336s.\n",
      "194 epoch. train: 0.00009. val: 0.00237. time: 1766.490s.\n",
      "195 epoch. train: 0.00014. val: 0.00238. time: 1775.657s.\n",
      "196 epoch. train: 0.00005. val: 0.00253. time: 1784.810s.\n",
      "197 epoch. train: 0.00002. val: 0.00254. time: 1793.978s.\n",
      "198 epoch. train: 0.00001. val: 0.00261. time: 1803.117s.\n",
      "199 epoch. train: 0.00000. val: 0.00270. time: 1812.261s.\n",
      "200 epoch. train: 0.00000. val: 0.00263. time: 1821.371s.\n",
      "201 epoch. train: 0.00000. val: 0.00266. time: 1830.521s.\n",
      "202 epoch. train: 0.00000. val: 0.00269. time: 1839.644s.\n",
      "203 epoch. train: 0.00000. val: 0.00271. time: 1848.797s.\n",
      "204 epoch. train: 0.00000. val: 0.00268. time: 1857.953s.\n",
      "205 epoch. train: 0.00000. val: 0.00272. time: 1867.088s.\n",
      "206 epoch. train: 0.00000. val: 0.00271. time: 1876.200s.\n",
      "207 epoch. train: 0.00000. val: 0.00274. time: 1885.308s.\n",
      "208 epoch. train: 0.00000. val: 0.00274. time: 1894.342s.\n",
      "209 epoch. train: 0.00000. val: 0.00275. time: 1903.483s.\n",
      "210 epoch. train: 0.00000. val: 0.00276. time: 1912.636s.\n",
      "211 epoch. train: 0.00000. val: 0.00276. time: 1921.774s.\n",
      "212 epoch. train: 0.00000. val: 0.00276. time: 1930.884s.\n",
      "213 epoch. train: 0.00000. val: 0.00277. time: 1940.018s.\n",
      "214 epoch. train: 0.00000. val: 0.00278. time: 1949.158s.\n",
      "215 epoch. train: 0.00000. val: 0.00279. time: 1958.324s.\n",
      "216 epoch. train: 0.00000. val: 0.00280. time: 1967.483s.\n",
      "217 epoch. train: 0.00000. val: 0.00280. time: 1976.642s.\n",
      "218 epoch. train: 0.00000. val: 0.00281. time: 1985.786s.\n",
      "219 epoch. train: 0.00000. val: 0.00280. time: 1994.976s.\n",
      "220 epoch. train: 0.00000. val: 0.00283. time: 2004.122s.\n",
      "221 epoch. train: 0.00000. val: 0.00280. time: 2013.290s.\n",
      "222 epoch. train: 0.00000. val: 0.00283. time: 2022.459s.\n",
      "223 epoch. train: 0.00000. val: 0.00279. time: 2031.606s.\n",
      "224 epoch. train: 0.00000. val: 0.00284. time: 2040.749s.\n",
      "225 epoch. train: 0.00000. val: 0.00281. time: 2049.933s.\n",
      "226 epoch. train: 0.00000. val: 0.00284. time: 2059.081s.\n",
      "227 epoch. train: 0.00000. val: 0.00283. time: 2068.247s.\n",
      "228 epoch. train: 0.00000. val: 0.00285. time: 2077.394s.\n",
      "229 epoch. train: 0.00000. val: 0.00285. time: 2086.561s.\n",
      "230 epoch. train: 0.00000. val: 0.00287. time: 2095.721s.\n",
      "231 epoch. train: 0.00000. val: 0.00286. time: 2104.875s.\n",
      "232 epoch. train: 0.00000. val: 0.00287. time: 2113.993s.\n",
      "233 epoch. train: 0.00000. val: 0.00286. time: 2123.120s.\n",
      "234 epoch. train: 0.00000. val: 0.00287. time: 2132.246s.\n",
      "235 epoch. train: 0.00000. val: 0.00288. time: 2141.401s.\n",
      "236 epoch. train: 0.00000. val: 0.00290. time: 2150.545s.\n",
      "237 epoch. train: 0.00000. val: 0.00287. time: 2159.713s.\n",
      "238 epoch. train: 0.00000. val: 0.00290. time: 2168.873s.\n",
      "239 epoch. train: 0.00000. val: 0.00286. time: 2178.022s.\n",
      "240 epoch. train: 0.00000. val: 0.00285. time: 2187.164s.\n"
     ]
    }
   ],
   "source": [
    "# # пример запуска для минимизации логлосса\n",
    "trainer.train(train_dl, val_dl, n_epochs=240, verbose=True)\n",
    "\n",
    "\n",
    "# losses, best_loss, epoch_time = utils.train_model(trainer, train_dl, val_dl, val_y, scheduler,\n",
    "#                                             n_epochs=1000, gap=20, verbose=True)\n",
    "\n"
   ]
  },
  {
   "cell_type": "code",
   "execution_count": 18,
   "metadata": {},
   "outputs": [
    {
     "name": "stderr",
     "output_type": "stream",
     "text": [
      "Loss: 0.06763. Iter: 100%|██████████| 70/70 [00:14<00:00,  5.24it/s]\n",
      "100%|██████████| 8/8 [00:00<00:00, 10.90it/s]\n",
      "  0%|          | 0/70 [00:00<?, ?it/s]"
     ]
    },
    {
     "name": "stdout",
     "output_type": "stream",
     "text": [
      "0.32207662069576626\n"
     ]
    },
    {
     "name": "stderr",
     "output_type": "stream",
     "text": [
      "Loss: 0.05798. Iter: 100%|██████████| 70/70 [00:15<00:00,  5.67it/s]\n",
      "100%|██████████| 8/8 [00:00<00:00, 13.35it/s]\n",
      "  0%|          | 0/70 [00:00<?, ?it/s]"
     ]
    },
    {
     "name": "stdout",
     "output_type": "stream",
     "text": [
      "0.4166380930591757\n"
     ]
    },
    {
     "name": "stderr",
     "output_type": "stream",
     "text": [
      "Loss: 0.05236. Iter: 100%|██████████| 70/70 [00:15<00:00,  5.22it/s]\n",
      "100%|██████████| 8/8 [00:00<00:00, 12.11it/s]\n",
      "  0%|          | 0/70 [00:00<?, ?it/s]"
     ]
    },
    {
     "name": "stdout",
     "output_type": "stream",
     "text": [
      "0.4582206474353202\n"
     ]
    },
    {
     "name": "stderr",
     "output_type": "stream",
     "text": [
      "Loss: 0.04700. Iter: 100%|██████████| 70/70 [00:15<00:00,  5.20it/s]\n",
      "100%|██████████| 8/8 [00:00<00:00, 12.24it/s]\n",
      "  0%|          | 0/70 [00:00<?, ?it/s]"
     ]
    },
    {
     "name": "stdout",
     "output_type": "stream",
     "text": [
      "0.4928546655237012\n"
     ]
    },
    {
     "name": "stderr",
     "output_type": "stream",
     "text": [
      "Loss: 0.04262. Iter: 100%|██████████| 70/70 [00:15<00:00,  5.63it/s]\n",
      "100%|██████████| 8/8 [00:00<00:00, 13.09it/s]\n",
      "  0%|          | 0/70 [00:00<?, ?it/s]"
     ]
    },
    {
     "name": "stdout",
     "output_type": "stream",
     "text": [
      "0.5295653557993734\n"
     ]
    },
    {
     "name": "stderr",
     "output_type": "stream",
     "text": [
      "Loss: 0.03912. Iter: 100%|██████████| 70/70 [00:15<00:00,  5.20it/s]\n",
      "100%|██████████| 8/8 [00:00<00:00, 12.19it/s]\n",
      "  0%|          | 0/70 [00:00<?, ?it/s]"
     ]
    },
    {
     "name": "stdout",
     "output_type": "stream",
     "text": [
      "0.5703799406704296\n"
     ]
    },
    {
     "name": "stderr",
     "output_type": "stream",
     "text": [
      "Loss: 0.03511. Iter: 100%|██████████| 70/70 [00:15<00:00,  5.16it/s]\n",
      "100%|██████████| 8/8 [00:00<00:00, 11.98it/s]\n",
      "  0%|          | 0/70 [00:00<?, ?it/s]"
     ]
    },
    {
     "name": "stdout",
     "output_type": "stream",
     "text": [
      "0.5884857284496896\n"
     ]
    },
    {
     "name": "stderr",
     "output_type": "stream",
     "text": [
      "Loss: 0.03391. Iter: 100%|██████████| 70/70 [00:15<00:00,  5.12it/s]\n",
      "100%|██████████| 8/8 [00:00<00:00, 11.95it/s]\n",
      "  0%|          | 0/70 [00:00<?, ?it/s]"
     ]
    },
    {
     "name": "stdout",
     "output_type": "stream",
     "text": [
      "0.613799956117646\n"
     ]
    },
    {
     "name": "stderr",
     "output_type": "stream",
     "text": [
      "Loss: 0.03119. Iter: 100%|██████████| 70/70 [00:15<00:00,  5.15it/s]\n",
      "100%|██████████| 8/8 [00:00<00:00, 11.86it/s]\n",
      "  0%|          | 0/70 [00:00<?, ?it/s]"
     ]
    },
    {
     "name": "stdout",
     "output_type": "stream",
     "text": [
      "0.5996618968494476\n"
     ]
    },
    {
     "name": "stderr",
     "output_type": "stream",
     "text": [
      "Loss: 0.02637. Iter: 100%|██████████| 70/70 [00:15<00:00,  5.57it/s]\n",
      "100%|██████████| 8/8 [00:00<00:00, 13.34it/s]\n",
      "  0%|          | 0/70 [00:00<?, ?it/s]"
     ]
    },
    {
     "name": "stdout",
     "output_type": "stream",
     "text": [
      "0.5988951360838559\n"
     ]
    },
    {
     "name": "stderr",
     "output_type": "stream",
     "text": [
      "Loss: 0.02486. Iter: 100%|██████████| 70/70 [00:14<00:00,  5.61it/s]\n",
      "100%|██████████| 8/8 [00:00<00:00, 13.27it/s]\n",
      "  0%|          | 0/70 [00:00<?, ?it/s]"
     ]
    },
    {
     "name": "stdout",
     "output_type": "stream",
     "text": [
      "0.646209654193764\n"
     ]
    },
    {
     "name": "stderr",
     "output_type": "stream",
     "text": [
      "Loss: 0.02322. Iter: 100%|██████████| 70/70 [00:14<00:00,  5.60it/s]\n",
      "100%|██████████| 8/8 [00:00<00:00, 13.29it/s]\n",
      "  0%|          | 0/70 [00:00<?, ?it/s]"
     ]
    },
    {
     "name": "stdout",
     "output_type": "stream",
     "text": [
      "0.6551752026880457\n"
     ]
    },
    {
     "name": "stderr",
     "output_type": "stream",
     "text": [
      "Loss: 0.02049. Iter: 100%|██████████| 70/70 [00:14<00:00,  5.46it/s]\n",
      "100%|██████████| 8/8 [00:00<00:00, 12.92it/s]\n",
      "  0%|          | 0/70 [00:00<?, ?it/s]"
     ]
    },
    {
     "name": "stdout",
     "output_type": "stream",
     "text": [
      "0.6473820956121759\n"
     ]
    },
    {
     "name": "stderr",
     "output_type": "stream",
     "text": [
      "Loss: 0.01926. Iter: 100%|██████████| 70/70 [00:14<00:00,  5.50it/s]\n",
      "100%|██████████| 8/8 [00:00<00:00, 12.10it/s]\n",
      "  0%|          | 0/70 [00:00<?, ?it/s]"
     ]
    },
    {
     "name": "stdout",
     "output_type": "stream",
     "text": [
      "0.6441005260998045\n"
     ]
    },
    {
     "name": "stderr",
     "output_type": "stream",
     "text": [
      "Loss: 0.01784. Iter: 100%|██████████| 70/70 [00:14<00:00,  5.59it/s]\n",
      "100%|██████████| 8/8 [00:00<00:00, 12.99it/s]\n",
      "  0%|          | 0/70 [00:00<?, ?it/s]"
     ]
    },
    {
     "name": "stdout",
     "output_type": "stream",
     "text": [
      "0.6626067061164259\n"
     ]
    },
    {
     "name": "stderr",
     "output_type": "stream",
     "text": [
      "Loss: 0.01505. Iter: 100%|██████████| 70/70 [00:14<00:00,  5.58it/s]\n",
      "100%|██████████| 8/8 [00:00<00:00, 12.93it/s]\n",
      "  0%|          | 0/70 [00:00<?, ?it/s]"
     ]
    },
    {
     "name": "stdout",
     "output_type": "stream",
     "text": [
      "0.6737623354909517\n"
     ]
    },
    {
     "name": "stderr",
     "output_type": "stream",
     "text": [
      "Loss: 0.01228. Iter: 100%|██████████| 70/70 [00:14<00:00,  5.56it/s]\n",
      "100%|██████████| 8/8 [00:00<00:00, 12.99it/s]\n",
      "  0%|          | 0/70 [00:00<?, ?it/s]"
     ]
    },
    {
     "name": "stdout",
     "output_type": "stream",
     "text": [
      "0.6784166777225116\n"
     ]
    },
    {
     "name": "stderr",
     "output_type": "stream",
     "text": [
      "Loss: 0.01107. Iter: 100%|██████████| 70/70 [00:14<00:00,  5.61it/s]\n",
      "100%|██████████| 8/8 [00:00<00:00, 12.97it/s]\n",
      "  0%|          | 0/70 [00:00<?, ?it/s]"
     ]
    },
    {
     "name": "stdout",
     "output_type": "stream",
     "text": [
      "0.6772803548081768\n"
     ]
    },
    {
     "name": "stderr",
     "output_type": "stream",
     "text": [
      "Loss: 0.01175. Iter: 100%|██████████| 70/70 [00:15<00:00,  5.17it/s]\n",
      "100%|██████████| 8/8 [00:00<00:00, 12.84it/s]\n",
      "  0%|          | 0/70 [00:00<?, ?it/s]"
     ]
    },
    {
     "name": "stdout",
     "output_type": "stream",
     "text": [
      "0.6778412922729062\n"
     ]
    },
    {
     "name": "stderr",
     "output_type": "stream",
     "text": [
      "Loss: 0.01064. Iter: 100%|██████████| 70/70 [00:15<00:00,  5.19it/s]\n",
      "100%|██████████| 8/8 [00:00<00:00, 11.81it/s]"
     ]
    },
    {
     "name": "stdout",
     "output_type": "stream",
     "text": [
      "0.6585010786758971\n"
     ]
    },
    {
     "name": "stderr",
     "output_type": "stream",
     "text": [
      "\n"
     ]
    }
   ],
   "source": [
    "from metrics import lwlrap_score\n",
    "\n",
    "# если хочется считать скор метрики оргов\n",
    "losses = []\n",
    "for i in range(20):\n",
    "    # делает один проход по даталоадеру\n",
    "    trainer.train_step(train_dl, verbose=True)\n",
    "    \n",
    "    # формируем предсказания\n",
    "    model.eval()\n",
    "    preds = []\n",
    "    for batch in tqdm.tqdm(val_dl):\n",
    "        batch = batch[0].to(device)\n",
    "        pred = model(batch)\n",
    "        preds.append(pred.cpu().detach().numpy())\n",
    "    preds = np.vstack(preds)\n",
    "    \n",
    "    # считаем скор метрики оргов\n",
    "    score = lwlrap_score(test_y, preds)\n",
    "    print(score)\n",
    "    \n",
    "    losses.append(score)"
   ]
  },
  {
   "cell_type": "code",
   "execution_count": null,
   "metadata": {},
   "outputs": [],
   "source": [
    "# test inference\n",
    "\n",
    "with open(join_path('test_mels.pkl'), 'rb') as f:\n",
    "    test_data = pickle.load(f)\n",
    "    \n",
    "test_filepaths = glob.glob(join_path('test/*'))\n",
    "\n",
    "test_ds = TensorDataset(torch.tensor(test_data).unsqueeze(1))\n",
    "test_dl = DataLoader(test_ds, batch_size=64)\n",
    "\n",
    "model.eval()\n",
    "preds = []\n",
    "for batch in tqdm.tqdm(test_dl):\n",
    "    batch = batch[0].to(device)\n",
    "    pred = model(batch)\n",
    "    preds.append(pred.cpu().detach().numpy())\n",
    "preds = np.vstack(preds)"
   ]
  },
  {
   "cell_type": "code",
   "execution_count": null,
   "metadata": {},
   "outputs": [],
   "source": [
    "sub = pd.DataFrame(preds)\n",
    "sub.columns = [label for label in cats]\n",
    "sub['fname'] = [fp[-12:] for fp in test_filepaths]\n",
    "sub.to_csv(\"sub3.csv\", index=False)"
   ]
  }
 ],
 "metadata": {
  "kernelspec": {
   "display_name": "Python 3",
   "language": "python",
   "name": "python3"
  },
  "language_info": {
   "codemirror_mode": {
    "name": "ipython",
    "version": 3
   },
   "file_extension": ".py",
   "mimetype": "text/x-python",
   "name": "python",
   "nbconvert_exporter": "python",
   "pygments_lexer": "ipython3",
   "version": "3.6.7"
  }
 },
 "nbformat": 4,
 "nbformat_minor": 2
}
