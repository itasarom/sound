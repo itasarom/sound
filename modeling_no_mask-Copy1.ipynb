{
 "cells": [
  {
   "cell_type": "code",
   "execution_count": 1,
   "metadata": {},
   "outputs": [],
   "source": [
    "import numpy as np\n",
    "import pandas as pd\n",
    "\n",
    "import os\n",
    "import glob\n",
    "import librosa\n",
    "import tqdm\n",
    "import pickle\n",
    "\n",
    "from collections import Counter, defaultdict\n",
    "\n",
    "from torchvision.datasets.folder import default_loader\n",
    "from torch.utils.data import TensorDataset, DataLoader\n",
    "from torch import nn\n",
    "import torch.nn.functional as F\n",
    "import torch\n",
    "\n",
    "DATA_PATH = './data'\n",
    "join_path = lambda path: os.path.join(DATA_PATH, path)"
   ]
  },
  {
   "cell_type": "code",
   "execution_count": 4,
   "metadata": {},
   "outputs": [],
   "source": [
    "filepaths = glob.glob(join_path('train_curated/*')) # именно в таком порядке будут идти все аудиозаписи\n",
    "\n",
    "train = pd.read_csv(join_path('train_curated.csv')).set_index('fname')\n",
    "\n",
    "cats = list(set(sum(list(train['labels'].str.split(',').values), [])))\n",
    "\n",
    "train['enc_labels'] = train['labels'].str.split(',').apply(lambda x: [int(label in x) for label in cats])\n",
    "\n",
    "targets = np.array(train.loc[[fp[-12:] for fp in filepaths], 'enc_labels'].tolist())"
   ]
  },
  {
   "cell_type": "code",
   "execution_count": 5,
   "metadata": {},
   "outputs": [],
   "source": [
    "with open(join_path('train_curated_mels.pkl'), 'rb') as f:\n",
    "    data = pickle.load(f)"
   ]
  },
  {
   "cell_type": "code",
   "execution_count": 6,
   "metadata": {},
   "outputs": [],
   "source": [
    "import mclnn\n",
    "base = nn.Sequential(\n",
    "    mclnn.CLNNModule(128, 256, 4, dilation=1, mask_params={\"bandwidth\":64, \"overlap\":32}),\n",
    "    nn.LeakyReLU(),\n",
    "    mclnn.BatchNorm(256),\n",
    "    mclnn.CLNNModule(256, 256, 4, dilation=1, mask_params={\"bandwidth\":64, \"overlap\":32}),\n",
    "    nn.LeakyReLU(),\n",
    "    mclnn.TemporalPool(2),\n",
    "    mclnn.BatchNorm(256),\n",
    "    mclnn.CLNNModule(256, 256, 4, dilation=1),\n",
    "    nn.LeakyReLU(),\n",
    "    mclnn.TemporalPool(2),\n",
    "    mclnn.CLNNModule(256, 256, 4),\n",
    "    nn.LeakyReLU(),\n",
    "    mclnn.TemporalPool(4),\n",
    "    mclnn.BatchNorm(256),\n",
    "    mclnn.Flatten(),\n",
    "    nn.Linear(256*8, 1024),\n",
    "    nn.LeakyReLU(),\n",
    "    nn.Linear(1024, 80)\n",
    ")\n",
    "\n",
    "class W(nn.Module):\n",
    "    def __init__(self, model):\n",
    "        super().__init__()\n",
    "        self.model = model\n",
    "\n",
    "        \n",
    "    def forward(self, input):\n",
    "        input = input.squeeze(1)\n",
    "        return self.model(input)\n",
    "    \n",
    "model = W(base)"
   ]
  },
  {
   "cell_type": "code",
   "execution_count": null,
   "metadata": {},
   "outputs": [],
   "source": []
  },
  {
   "cell_type": "code",
   "execution_count": 7,
   "metadata": {},
   "outputs": [],
   "source": [
    "# pip install scikit-multilearn \n",
    "from skmultilearn.model_selection import iterative_train_test_split\n",
    "\n",
    "train_X, train_y, test_X, test_y = iterative_train_test_split(X=data, y=targets, test_size=0.1)"
   ]
  },
  {
   "cell_type": "code",
   "execution_count": 8,
   "metadata": {},
   "outputs": [],
   "source": [
    "train_ds = TensorDataset(torch.tensor(train_X).unsqueeze(1), torch.tensor(train_y).float())\n",
    "val_ds = TensorDataset(torch.tensor(test_X).unsqueeze(1), torch.tensor(test_y).float())\n",
    "\n",
    "train_dl = DataLoader(train_ds, batch_size=64)\n",
    "val_dl = DataLoader(val_ds, batch_size=64)"
   ]
  },
  {
   "cell_type": "code",
   "execution_count": 9,
   "metadata": {},
   "outputs": [],
   "source": [
    "device = torch.device('cuda' if torch.cuda.is_available() else 'cpu')\n",
    "# model = Model(num_classes=80)\n",
    "logdir = join_path('logdir')\n",
    "criterion = nn.BCEWithLogitsLoss()\n",
    "optimizer = torch.optim.Adam(model.parameters(), lr=1e-3)"
   ]
  },
  {
   "cell_type": "code",
   "execution_count": 10,
   "metadata": {},
   "outputs": [
    {
     "name": "stderr",
     "output_type": "stream",
     "text": [
      "WARNING:root:This caffe2 python run does not have GPU support. Will run in CPU only mode.\n",
      "WARNING:root:Debug message: /opt/caffe2/build/caffe2/python/caffe2_pybind11_state_gpu.so: undefined symbol: _ZN5fLI6438FLAGS_caffe2_max_keep_on_shrink_memoryE\n",
      "CRITICAL:root:Cannot load caffe2.python. Error: /opt/caffe2/build/caffe2/python/caffe2_pybind11_state.so: undefined symbol: _ZN5fLI6438FLAGS_caffe2_max_keep_on_shrink_memoryE\n"
     ]
    }
   ],
   "source": [
    "from kirill.flame import Trainer # мой небольшой пайплайн для тренировки сеток\n",
    "\n",
    "trainer = Trainer(model, optimizer, criterion, device, logdir)"
   ]
  },
  {
   "cell_type": "code",
   "execution_count": 12,
   "metadata": {},
   "outputs": [
    {
     "name": "stdout",
     "output_type": "stream",
     "text": [
      "  1 epoch. train: 0.00036. val: 0.00093. time: 8.967s.\n",
      "  2 epoch. train: 0.00030. val: 0.00090. time: 17.942s.\n",
      "  3 epoch. train: 0.00025. val: 0.00092. time: 26.956s.\n",
      "  4 epoch. train: 0.00021. val: 0.00100. time: 35.994s.\n",
      "  5 epoch. train: 0.00017. val: 0.00104. time: 45.032s.\n",
      "  6 epoch. train: 0.00014. val: 0.00107. time: 54.098s.\n",
      "  7 epoch. train: 0.00013. val: 0.00107. time: 63.193s.\n",
      "  8 epoch. train: 0.00010. val: 0.00107. time: 72.303s.\n",
      "  9 epoch. train: 0.00009. val: 0.00112. time: 81.403s.\n",
      " 10 epoch. train: 0.00008. val: 0.00118. time: 90.565s.\n",
      " 11 epoch. train: 0.00007. val: 0.00118. time: 99.751s.\n",
      " 12 epoch. train: 0.00006. val: 0.00124. time: 108.925s.\n",
      " 13 epoch. train: 0.00005. val: 0.00128. time: 118.070s.\n",
      " 14 epoch. train: 0.00003. val: 0.00132. time: 127.267s.\n",
      " 15 epoch. train: 0.00002. val: 0.00130. time: 136.095s.\n",
      " 16 epoch. train: 0.00002. val: 0.00136. time: 145.239s.\n",
      " 17 epoch. train: 0.00002. val: 0.00141. time: 154.411s.\n",
      " 18 epoch. train: 0.00001. val: 0.00145. time: 163.551s.\n",
      " 19 epoch. train: 0.00001. val: 0.00148. time: 172.663s.\n",
      " 20 epoch. train: 0.00001. val: 0.00148. time: 181.859s.\n",
      " 21 epoch. train: 0.00001. val: 0.00152. time: 190.739s.\n",
      " 22 epoch. train: 0.00001. val: 0.00154. time: 199.902s.\n",
      " 23 epoch. train: 0.00001. val: 0.00157. time: 209.055s.\n",
      " 24 epoch. train: 0.00001. val: 0.00159. time: 218.231s.\n",
      " 25 epoch. train: 0.00001. val: 0.00156. time: 227.392s.\n",
      " 26 epoch. train: 0.00000. val: 0.00156. time: 236.561s.\n",
      " 27 epoch. train: 0.00000. val: 0.00158. time: 245.695s.\n",
      " 28 epoch. train: 0.00000. val: 0.00160. time: 254.851s.\n",
      " 29 epoch. train: 0.00000. val: 0.00161. time: 263.998s.\n",
      " 30 epoch. train: 0.00000. val: 0.00163. time: 273.164s.\n",
      " 31 epoch. train: 0.00000. val: 0.00164. time: 282.340s.\n",
      " 32 epoch. train: 0.00000. val: 0.00163. time: 291.488s.\n",
      " 33 epoch. train: 0.00000. val: 0.00165. time: 300.667s.\n",
      " 34 epoch. train: 0.00000. val: 0.00164. time: 309.818s.\n",
      " 35 epoch. train: 0.00000. val: 0.00167. time: 319.017s.\n",
      " 36 epoch. train: 0.00000. val: 0.00164. time: 328.023s.\n",
      " 37 epoch. train: 0.00000. val: 0.00168. time: 337.172s.\n",
      " 38 epoch. train: 0.00000. val: 0.00164. time: 346.207s.\n",
      " 39 epoch. train: 0.00006. val: 0.00176. time: 355.365s.\n",
      " 40 epoch. train: 0.00033. val: 0.00134. time: 364.527s.\n",
      " 41 epoch. train: 0.00018. val: 0.00144. time: 373.688s.\n",
      " 42 epoch. train: 0.00007. val: 0.00141. time: 382.849s.\n",
      " 43 epoch. train: 0.00003. val: 0.00153. time: 391.753s.\n",
      " 44 epoch. train: 0.00002. val: 0.00162. time: 400.912s.\n",
      " 45 epoch. train: 0.00001. val: 0.00162. time: 410.057s.\n",
      " 46 epoch. train: 0.00000. val: 0.00173. time: 419.227s.\n",
      " 47 epoch. train: 0.00000. val: 0.00169. time: 428.385s.\n",
      " 48 epoch. train: 0.00000. val: 0.00169. time: 437.547s.\n",
      " 49 epoch. train: 0.00000. val: 0.00174. time: 446.698s.\n",
      " 50 epoch. train: 0.00000. val: 0.00173. time: 455.863s.\n",
      " 51 epoch. train: 0.00000. val: 0.00174. time: 465.014s.\n",
      " 52 epoch. train: 0.00000. val: 0.00175. time: 474.166s.\n",
      " 53 epoch. train: 0.00000. val: 0.00177. time: 483.340s.\n",
      " 54 epoch. train: 0.00000. val: 0.00178. time: 492.553s.\n",
      " 55 epoch. train: 0.00000. val: 0.00179. time: 501.525s.\n",
      " 56 epoch. train: 0.00000. val: 0.00180. time: 510.704s.\n",
      " 57 epoch. train: 0.00000. val: 0.00180. time: 519.858s.\n",
      " 58 epoch. train: 0.00000. val: 0.00181. time: 529.022s.\n",
      " 59 epoch. train: 0.00000. val: 0.00182. time: 538.196s.\n",
      " 60 epoch. train: 0.00000. val: 0.00183. time: 547.331s.\n",
      " 61 epoch. train: 0.00000. val: 0.00183. time: 556.124s.\n",
      " 62 epoch. train: 0.00000. val: 0.00184. time: 565.278s.\n",
      " 63 epoch. train: 0.00000. val: 0.00185. time: 574.418s.\n",
      " 64 epoch. train: 0.00000. val: 0.00185. time: 583.495s.\n",
      " 65 epoch. train: 0.00000. val: 0.00186. time: 592.619s.\n",
      " 66 epoch. train: 0.00000. val: 0.00187. time: 601.777s.\n",
      " 67 epoch. train: 0.00000. val: 0.00187. time: 610.936s.\n",
      " 68 epoch. train: 0.00000. val: 0.00188. time: 620.083s.\n",
      " 69 epoch. train: 0.00000. val: 0.00188. time: 629.194s.\n",
      " 70 epoch. train: 0.00000. val: 0.00189. time: 638.320s.\n",
      " 71 epoch. train: 0.00000. val: 0.00190. time: 647.472s.\n",
      " 72 epoch. train: 0.00000. val: 0.00190. time: 656.636s.\n",
      " 73 epoch. train: 0.00000. val: 0.00191. time: 665.797s.\n",
      " 74 epoch. train: 0.00000. val: 0.00191. time: 674.939s.\n",
      " 75 epoch. train: 0.00000. val: 0.00192. time: 684.087s.\n",
      " 76 epoch. train: 0.00000. val: 0.00192. time: 693.253s.\n",
      " 77 epoch. train: 0.00000. val: 0.00193. time: 702.417s.\n",
      " 78 epoch. train: 0.00000. val: 0.00193. time: 711.555s.\n",
      " 79 epoch. train: 0.00000. val: 0.00194. time: 720.701s.\n",
      " 80 epoch. train: 0.00000. val: 0.00194. time: 729.876s.\n",
      " 81 epoch. train: 0.00000. val: 0.00195. time: 739.037s.\n",
      " 82 epoch. train: 0.00000. val: 0.00195. time: 748.197s.\n",
      " 83 epoch. train: 0.00000. val: 0.00196. time: 757.333s.\n",
      " 84 epoch. train: 0.00000. val: 0.00196. time: 766.430s.\n",
      " 85 epoch. train: 0.00000. val: 0.00197. time: 775.297s.\n",
      " 86 epoch. train: 0.00000. val: 0.00197. time: 784.442s.\n",
      " 87 epoch. train: 0.00000. val: 0.00198. time: 793.598s.\n",
      " 88 epoch. train: 0.00000. val: 0.00198. time: 802.773s.\n",
      " 89 epoch. train: 0.00000. val: 0.00199. time: 811.929s.\n",
      " 90 epoch. train: 0.00000. val: 0.00199. time: 821.082s.\n",
      " 91 epoch. train: 0.00000. val: 0.00200. time: 830.232s.\n",
      " 92 epoch. train: 0.00000. val: 0.00200. time: 839.380s.\n",
      " 93 epoch. train: 0.00000. val: 0.00201. time: 848.547s.\n",
      " 94 epoch. train: 0.00000. val: 0.00201. time: 857.575s.\n",
      " 95 epoch. train: 0.00000. val: 0.00202. time: 866.743s.\n",
      " 96 epoch. train: 0.00000. val: 0.00202. time: 875.901s.\n",
      " 97 epoch. train: 0.00000. val: 0.00203. time: 885.055s.\n",
      " 98 epoch. train: 0.00000. val: 0.00203. time: 894.214s.\n",
      " 99 epoch. train: 0.00000. val: 0.00204. time: 903.316s.\n",
      "100 epoch. train: 0.00000. val: 0.00204. time: 912.435s.\n",
      "101 epoch. train: 0.00000. val: 0.00205. time: 921.585s.\n",
      "102 epoch. train: 0.00000. val: 0.00205. time: 930.742s.\n",
      "103 epoch. train: 0.00000. val: 0.00205. time: 939.898s.\n",
      "104 epoch. train: 0.00000. val: 0.00206. time: 949.058s.\n",
      "105 epoch. train: 0.00000. val: 0.00206. time: 958.227s.\n",
      "106 epoch. train: 0.00000. val: 0.00207. time: 967.371s.\n",
      "107 epoch. train: 0.00000. val: 0.00207. time: 976.536s.\n",
      "108 epoch. train: 0.00000. val: 0.00208. time: 985.710s.\n",
      "109 epoch. train: 0.00000. val: 0.00208. time: 994.860s.\n",
      "110 epoch. train: 0.00000. val: 0.00209. time: 1003.958s.\n",
      "111 epoch. train: 0.00000. val: 0.00209. time: 1013.085s.\n",
      "112 epoch. train: 0.00000. val: 0.00210. time: 1022.241s.\n",
      "113 epoch. train: 0.00000. val: 0.00210. time: 1031.382s.\n",
      "114 epoch. train: 0.00000. val: 0.00211. time: 1040.368s.\n",
      "115 epoch. train: 0.00000. val: 0.00211. time: 1049.483s.\n",
      "116 epoch. train: 0.00000. val: 0.00211. time: 1058.629s.\n",
      "117 epoch. train: 0.00000. val: 0.00212. time: 1067.776s.\n",
      "118 epoch. train: 0.00000. val: 0.00212. time: 1076.916s.\n",
      "119 epoch. train: 0.00000. val: 0.00213. time: 1086.101s.\n",
      "120 epoch. train: 0.00000. val: 0.00213. time: 1095.232s.\n",
      "121 epoch. train: 0.00000. val: 0.00214. time: 1104.358s.\n",
      "122 epoch. train: 0.00000. val: 0.00214. time: 1113.450s.\n",
      "123 epoch. train: 0.00000. val: 0.00215. time: 1122.600s.\n",
      "124 epoch. train: 0.00000. val: 0.00215. time: 1131.769s.\n",
      "125 epoch. train: 0.00000. val: 0.00216. time: 1140.844s.\n",
      "126 epoch. train: 0.00000. val: 0.00216. time: 1149.978s.\n",
      "127 epoch. train: 0.00000. val: 0.00217. time: 1159.155s.\n",
      "128 epoch. train: 0.00000. val: 0.00217. time: 1168.144s.\n",
      "129 epoch. train: 0.00000. val: 0.00218. time: 1177.278s.\n",
      "130 epoch. train: 0.00000. val: 0.00218. time: 1186.390s.\n",
      "131 epoch. train: 0.00000. val: 0.00218. time: 1195.534s.\n",
      "132 epoch. train: 0.00000. val: 0.00219. time: 1204.714s.\n",
      "133 epoch. train: 0.00000. val: 0.00219. time: 1214.002s.\n",
      "134 epoch. train: 0.00000. val: 0.00220. time: 1223.119s.\n",
      "135 epoch. train: 0.00000. val: 0.00220. time: 1232.269s.\n",
      "136 epoch. train: 0.00000. val: 0.00221. time: 1241.367s.\n",
      "137 epoch. train: 0.00000. val: 0.00221. time: 1250.494s.\n",
      "138 epoch. train: 0.00000. val: 0.00222. time: 1259.628s.\n",
      "139 epoch. train: 0.00000. val: 0.00222. time: 1268.679s.\n",
      "140 epoch. train: 0.00000. val: 0.00223. time: 1277.833s.\n",
      "141 epoch. train: 0.00000. val: 0.00223. time: 1286.988s.\n",
      "142 epoch. train: 0.00000. val: 0.00224. time: 1296.150s.\n",
      "143 epoch. train: 0.00000. val: 0.00224. time: 1305.307s.\n"
     ]
    },
    {
     "name": "stdout",
     "output_type": "stream",
     "text": [
      "144 epoch. train: 0.00000. val: 0.00225. time: 1314.468s.\n",
      "145 epoch. train: 0.00000. val: 0.00225. time: 1323.614s.\n",
      "146 epoch. train: 0.00000. val: 0.00225. time: 1332.790s.\n",
      "147 epoch. train: 0.00000. val: 0.00226. time: 1341.935s.\n",
      "148 epoch. train: 0.00000. val: 0.00226. time: 1351.094s.\n",
      "149 epoch. train: 0.00000. val: 0.00227. time: 1360.251s.\n",
      "150 epoch. train: 0.00000. val: 0.00227. time: 1369.391s.\n",
      "151 epoch. train: 0.00000. val: 0.00228. time: 1378.528s.\n",
      "152 epoch. train: 0.00000. val: 0.00228. time: 1387.550s.\n",
      "153 epoch. train: 0.00000. val: 0.00229. time: 1396.667s.\n",
      "154 epoch. train: 0.00000. val: 0.00229. time: 1405.809s.\n",
      "155 epoch. train: 0.00000. val: 0.00230. time: 1414.941s.\n",
      "156 epoch. train: 0.00000. val: 0.00230. time: 1424.055s.\n",
      "157 epoch. train: 0.00000. val: 0.00231. time: 1433.175s.\n",
      "158 epoch. train: 0.00000. val: 0.00231. time: 1442.339s.\n",
      "159 epoch. train: 0.00000. val: 0.00232. time: 1451.468s.\n",
      "160 epoch. train: 0.00000. val: 0.00232. time: 1460.559s.\n",
      "161 epoch. train: 0.00000. val: 0.00233. time: 1469.691s.\n",
      "162 epoch. train: 0.00000. val: 0.00233. time: 1478.846s.\n",
      "163 epoch. train: 0.00000. val: 0.00233. time: 1488.010s.\n",
      "164 epoch. train: 0.00000. val: 0.00234. time: 1497.165s.\n",
      "165 epoch. train: 0.00000. val: 0.00234. time: 1506.316s.\n",
      "166 epoch. train: 0.00000. val: 0.00235. time: 1515.476s.\n",
      "167 epoch. train: 0.00000. val: 0.00235. time: 1524.621s.\n",
      "168 epoch. train: 0.00000. val: 0.00236. time: 1533.775s.\n",
      "169 epoch. train: 0.00000. val: 0.00236. time: 1542.883s.\n",
      "170 epoch. train: 0.00000. val: 0.00237. time: 1552.015s.\n",
      "171 epoch. train: 0.00000. val: 0.00237. time: 1561.151s.\n",
      "172 epoch. train: 0.00000. val: 0.00238. time: 1570.281s.\n",
      "173 epoch. train: 0.00000. val: 0.00238. time: 1579.392s.\n",
      "174 epoch. train: 0.00000. val: 0.00239. time: 1588.517s.\n",
      "175 epoch. train: 0.00000. val: 0.00239. time: 1597.666s.\n",
      "176 epoch. train: 0.00000. val: 0.00240. time: 1606.828s.\n",
      "177 epoch. train: 0.00000. val: 0.00240. time: 1615.961s.\n",
      "178 epoch. train: 0.00000. val: 0.00241. time: 1625.151s.\n",
      "179 epoch. train: 0.00000. val: 0.00241. time: 1634.325s.\n",
      "180 epoch. train: 0.00000. val: 0.00242. time: 1643.467s.\n",
      "181 epoch. train: 0.00000. val: 0.00242. time: 1652.626s.\n",
      "182 epoch. train: 0.00000. val: 0.00243. time: 1661.793s.\n",
      "183 epoch. train: 0.00000. val: 0.00243. time: 1670.939s.\n",
      "184 epoch. train: 0.00000. val: 0.00243. time: 1680.047s.\n",
      "185 epoch. train: 0.00000. val: 0.00244. time: 1689.180s.\n",
      "186 epoch. train: 0.00000. val: 0.00244. time: 1698.283s.\n",
      "187 epoch. train: 0.00000. val: 0.00245. time: 1707.417s.\n",
      "188 epoch. train: 0.00000. val: 0.00245. time: 1716.553s.\n",
      "189 epoch. train: 0.00000. val: 0.00246. time: 1725.701s.\n",
      "190 epoch. train: 0.00000. val: 0.00246. time: 1734.831s.\n",
      "191 epoch. train: 0.00000. val: 0.00247. time: 1743.933s.\n",
      "192 epoch. train: 0.00000. val: 0.00247. time: 1753.074s.\n",
      "193 epoch. train: 0.00000. val: 0.00248. time: 1762.226s.\n",
      "194 epoch. train: 0.00000. val: 0.00248. time: 1771.394s.\n",
      "195 epoch. train: 0.00000. val: 0.00249. time: 1780.555s.\n",
      "196 epoch. train: 0.00000. val: 0.00249. time: 1789.714s.\n",
      "197 epoch. train: 0.00000. val: 0.00250. time: 1798.855s.\n",
      "198 epoch. train: 0.00000. val: 0.00250. time: 1808.000s.\n",
      "199 epoch. train: 0.00000. val: 0.00251. time: 1817.108s.\n",
      "200 epoch. train: 0.00000. val: 0.00251. time: 1826.246s.\n",
      "201 epoch. train: 0.00000. val: 0.00252. time: 1835.381s.\n",
      "202 epoch. train: 0.00000. val: 0.00252. time: 1844.532s.\n",
      "203 epoch. train: 0.00000. val: 0.00253. time: 1853.678s.\n",
      "204 epoch. train: 0.00000. val: 0.00253. time: 1862.826s.\n",
      "205 epoch. train: 0.00000. val: 0.00253. time: 1871.927s.\n",
      "206 epoch. train: 0.00000. val: 0.00254. time: 1881.076s.\n",
      "207 epoch. train: 0.00000. val: 0.00254. time: 1890.078s.\n",
      "208 epoch. train: 0.00000. val: 0.00255. time: 1899.213s.\n",
      "209 epoch. train: 0.00000. val: 0.00255. time: 1908.364s.\n",
      "210 epoch. train: 0.00000. val: 0.00256. time: 1917.511s.\n",
      "211 epoch. train: 0.00000. val: 0.00256. time: 1926.619s.\n",
      "212 epoch. train: 0.00000. val: 0.00257. time: 1935.754s.\n",
      "213 epoch. train: 0.00000. val: 0.00257. time: 1944.895s.\n",
      "214 epoch. train: 0.00000. val: 0.00258. time: 1954.054s.\n",
      "215 epoch. train: 0.00000. val: 0.00258. time: 1963.218s.\n",
      "216 epoch. train: 0.00000. val: 0.00259. time: 1972.378s.\n",
      "217 epoch. train: 0.00000. val: 0.00259. time: 1981.523s.\n",
      "218 epoch. train: 0.00000. val: 0.00260. time: 1990.712s.\n",
      "219 epoch. train: 0.00000. val: 0.00260. time: 1999.859s.\n",
      "220 epoch. train: 0.00000. val: 0.00261. time: 2009.027s.\n",
      "221 epoch. train: 0.00000. val: 0.00261. time: 2018.196s.\n",
      "222 epoch. train: 0.00000. val: 0.00262. time: 2027.343s.\n",
      "223 epoch. train: 0.00000. val: 0.00262. time: 2036.488s.\n",
      "224 epoch. train: 0.00000. val: 0.00262. time: 2045.670s.\n",
      "225 epoch. train: 0.00000. val: 0.00263. time: 2054.817s.\n",
      "226 epoch. train: 0.00000. val: 0.00263. time: 2063.979s.\n",
      "227 epoch. train: 0.00000. val: 0.00264. time: 2073.133s.\n",
      "228 epoch. train: 0.00000. val: 0.00264. time: 2082.295s.\n",
      "229 epoch. train: 0.00000. val: 0.00265. time: 2091.459s.\n",
      "230 epoch. train: 0.00000. val: 0.00265. time: 2100.612s.\n",
      "231 epoch. train: 0.00000. val: 0.00266. time: 2109.730s.\n",
      "232 epoch. train: 0.00000. val: 0.00266. time: 2118.856s.\n",
      "233 epoch. train: 0.00000. val: 0.00267. time: 2127.985s.\n",
      "234 epoch. train: 0.00000. val: 0.00267. time: 2137.131s.\n",
      "235 epoch. train: 0.00000. val: 0.00268. time: 2146.277s.\n",
      "236 epoch. train: 0.00000. val: 0.00268. time: 2155.450s.\n",
      "237 epoch. train: 0.00000. val: 0.00268. time: 2164.610s.\n",
      "238 epoch. train: 0.00000. val: 0.00269. time: 2173.761s.\n",
      "239 epoch. train: 0.00000. val: 0.00269. time: 2182.902s.\n",
      "240 epoch. train: 0.00000. val: 0.00270. time: 2187.464s.\n"
     ]
    }
   ],
   "source": [
    "# # пример запуска для минимизации логлосса\n",
    "trainer.train(train_dl, val_dl, n_epochs=240, verbose=True)\n",
    "\n",
    "\n",
    "# losses, best_loss, epoch_time = utils.train_model(trainer, train_dl, val_dl, val_y, scheduler,\n",
    "#                                             n_epochs=1000, gap=20, verbose=True)\n",
    "\n"
   ]
  },
  {
   "cell_type": "code",
   "execution_count": 18,
   "metadata": {},
   "outputs": [
    {
     "name": "stderr",
     "output_type": "stream",
     "text": [
      "Loss: 0.06763. Iter: 100%|██████████| 70/70 [00:14<00:00,  5.24it/s]\n",
      "100%|██████████| 8/8 [00:00<00:00, 10.90it/s]\n",
      "  0%|          | 0/70 [00:00<?, ?it/s]"
     ]
    },
    {
     "name": "stdout",
     "output_type": "stream",
     "text": [
      "0.32207662069576626\n"
     ]
    },
    {
     "name": "stderr",
     "output_type": "stream",
     "text": [
      "Loss: 0.05798. Iter: 100%|██████████| 70/70 [00:15<00:00,  5.67it/s]\n",
      "100%|██████████| 8/8 [00:00<00:00, 13.35it/s]\n",
      "  0%|          | 0/70 [00:00<?, ?it/s]"
     ]
    },
    {
     "name": "stdout",
     "output_type": "stream",
     "text": [
      "0.4166380930591757\n"
     ]
    },
    {
     "name": "stderr",
     "output_type": "stream",
     "text": [
      "Loss: 0.05236. Iter: 100%|██████████| 70/70 [00:15<00:00,  5.22it/s]\n",
      "100%|██████████| 8/8 [00:00<00:00, 12.11it/s]\n",
      "  0%|          | 0/70 [00:00<?, ?it/s]"
     ]
    },
    {
     "name": "stdout",
     "output_type": "stream",
     "text": [
      "0.4582206474353202\n"
     ]
    },
    {
     "name": "stderr",
     "output_type": "stream",
     "text": [
      "Loss: 0.04700. Iter: 100%|██████████| 70/70 [00:15<00:00,  5.20it/s]\n",
      "100%|██████████| 8/8 [00:00<00:00, 12.24it/s]\n",
      "  0%|          | 0/70 [00:00<?, ?it/s]"
     ]
    },
    {
     "name": "stdout",
     "output_type": "stream",
     "text": [
      "0.4928546655237012\n"
     ]
    },
    {
     "name": "stderr",
     "output_type": "stream",
     "text": [
      "Loss: 0.04262. Iter: 100%|██████████| 70/70 [00:15<00:00,  5.63it/s]\n",
      "100%|██████████| 8/8 [00:00<00:00, 13.09it/s]\n",
      "  0%|          | 0/70 [00:00<?, ?it/s]"
     ]
    },
    {
     "name": "stdout",
     "output_type": "stream",
     "text": [
      "0.5295653557993734\n"
     ]
    },
    {
     "name": "stderr",
     "output_type": "stream",
     "text": [
      "Loss: 0.03912. Iter: 100%|██████████| 70/70 [00:15<00:00,  5.20it/s]\n",
      "100%|██████████| 8/8 [00:00<00:00, 12.19it/s]\n",
      "  0%|          | 0/70 [00:00<?, ?it/s]"
     ]
    },
    {
     "name": "stdout",
     "output_type": "stream",
     "text": [
      "0.5703799406704296\n"
     ]
    },
    {
     "name": "stderr",
     "output_type": "stream",
     "text": [
      "Loss: 0.03511. Iter: 100%|██████████| 70/70 [00:15<00:00,  5.16it/s]\n",
      "100%|██████████| 8/8 [00:00<00:00, 11.98it/s]\n",
      "  0%|          | 0/70 [00:00<?, ?it/s]"
     ]
    },
    {
     "name": "stdout",
     "output_type": "stream",
     "text": [
      "0.5884857284496896\n"
     ]
    },
    {
     "name": "stderr",
     "output_type": "stream",
     "text": [
      "Loss: 0.03391. Iter: 100%|██████████| 70/70 [00:15<00:00,  5.12it/s]\n",
      "100%|██████████| 8/8 [00:00<00:00, 11.95it/s]\n",
      "  0%|          | 0/70 [00:00<?, ?it/s]"
     ]
    },
    {
     "name": "stdout",
     "output_type": "stream",
     "text": [
      "0.613799956117646\n"
     ]
    },
    {
     "name": "stderr",
     "output_type": "stream",
     "text": [
      "Loss: 0.03119. Iter: 100%|██████████| 70/70 [00:15<00:00,  5.15it/s]\n",
      "100%|██████████| 8/8 [00:00<00:00, 11.86it/s]\n",
      "  0%|          | 0/70 [00:00<?, ?it/s]"
     ]
    },
    {
     "name": "stdout",
     "output_type": "stream",
     "text": [
      "0.5996618968494476\n"
     ]
    },
    {
     "name": "stderr",
     "output_type": "stream",
     "text": [
      "Loss: 0.02637. Iter: 100%|██████████| 70/70 [00:15<00:00,  5.57it/s]\n",
      "100%|██████████| 8/8 [00:00<00:00, 13.34it/s]\n",
      "  0%|          | 0/70 [00:00<?, ?it/s]"
     ]
    },
    {
     "name": "stdout",
     "output_type": "stream",
     "text": [
      "0.5988951360838559\n"
     ]
    },
    {
     "name": "stderr",
     "output_type": "stream",
     "text": [
      "Loss: 0.02486. Iter: 100%|██████████| 70/70 [00:14<00:00,  5.61it/s]\n",
      "100%|██████████| 8/8 [00:00<00:00, 13.27it/s]\n",
      "  0%|          | 0/70 [00:00<?, ?it/s]"
     ]
    },
    {
     "name": "stdout",
     "output_type": "stream",
     "text": [
      "0.646209654193764\n"
     ]
    },
    {
     "name": "stderr",
     "output_type": "stream",
     "text": [
      "Loss: 0.02322. Iter: 100%|██████████| 70/70 [00:14<00:00,  5.60it/s]\n",
      "100%|██████████| 8/8 [00:00<00:00, 13.29it/s]\n",
      "  0%|          | 0/70 [00:00<?, ?it/s]"
     ]
    },
    {
     "name": "stdout",
     "output_type": "stream",
     "text": [
      "0.6551752026880457\n"
     ]
    },
    {
     "name": "stderr",
     "output_type": "stream",
     "text": [
      "Loss: 0.02049. Iter: 100%|██████████| 70/70 [00:14<00:00,  5.46it/s]\n",
      "100%|██████████| 8/8 [00:00<00:00, 12.92it/s]\n",
      "  0%|          | 0/70 [00:00<?, ?it/s]"
     ]
    },
    {
     "name": "stdout",
     "output_type": "stream",
     "text": [
      "0.6473820956121759\n"
     ]
    },
    {
     "name": "stderr",
     "output_type": "stream",
     "text": [
      "Loss: 0.01926. Iter: 100%|██████████| 70/70 [00:14<00:00,  5.50it/s]\n",
      "100%|██████████| 8/8 [00:00<00:00, 12.10it/s]\n",
      "  0%|          | 0/70 [00:00<?, ?it/s]"
     ]
    },
    {
     "name": "stdout",
     "output_type": "stream",
     "text": [
      "0.6441005260998045\n"
     ]
    },
    {
     "name": "stderr",
     "output_type": "stream",
     "text": [
      "Loss: 0.01784. Iter: 100%|██████████| 70/70 [00:14<00:00,  5.59it/s]\n",
      "100%|██████████| 8/8 [00:00<00:00, 12.99it/s]\n",
      "  0%|          | 0/70 [00:00<?, ?it/s]"
     ]
    },
    {
     "name": "stdout",
     "output_type": "stream",
     "text": [
      "0.6626067061164259\n"
     ]
    },
    {
     "name": "stderr",
     "output_type": "stream",
     "text": [
      "Loss: 0.01505. Iter: 100%|██████████| 70/70 [00:14<00:00,  5.58it/s]\n",
      "100%|██████████| 8/8 [00:00<00:00, 12.93it/s]\n",
      "  0%|          | 0/70 [00:00<?, ?it/s]"
     ]
    },
    {
     "name": "stdout",
     "output_type": "stream",
     "text": [
      "0.6737623354909517\n"
     ]
    },
    {
     "name": "stderr",
     "output_type": "stream",
     "text": [
      "Loss: 0.01228. Iter: 100%|██████████| 70/70 [00:14<00:00,  5.56it/s]\n",
      "100%|██████████| 8/8 [00:00<00:00, 12.99it/s]\n",
      "  0%|          | 0/70 [00:00<?, ?it/s]"
     ]
    },
    {
     "name": "stdout",
     "output_type": "stream",
     "text": [
      "0.6784166777225116\n"
     ]
    },
    {
     "name": "stderr",
     "output_type": "stream",
     "text": [
      "Loss: 0.01107. Iter: 100%|██████████| 70/70 [00:14<00:00,  5.61it/s]\n",
      "100%|██████████| 8/8 [00:00<00:00, 12.97it/s]\n",
      "  0%|          | 0/70 [00:00<?, ?it/s]"
     ]
    },
    {
     "name": "stdout",
     "output_type": "stream",
     "text": [
      "0.6772803548081768\n"
     ]
    },
    {
     "name": "stderr",
     "output_type": "stream",
     "text": [
      "Loss: 0.01175. Iter: 100%|██████████| 70/70 [00:15<00:00,  5.17it/s]\n",
      "100%|██████████| 8/8 [00:00<00:00, 12.84it/s]\n",
      "  0%|          | 0/70 [00:00<?, ?it/s]"
     ]
    },
    {
     "name": "stdout",
     "output_type": "stream",
     "text": [
      "0.6778412922729062\n"
     ]
    },
    {
     "name": "stderr",
     "output_type": "stream",
     "text": [
      "Loss: 0.01064. Iter: 100%|██████████| 70/70 [00:15<00:00,  5.19it/s]\n",
      "100%|██████████| 8/8 [00:00<00:00, 11.81it/s]"
     ]
    },
    {
     "name": "stdout",
     "output_type": "stream",
     "text": [
      "0.6585010786758971\n"
     ]
    },
    {
     "name": "stderr",
     "output_type": "stream",
     "text": [
      "\n"
     ]
    }
   ],
   "source": [
    "from metrics import lwlrap_score\n",
    "\n",
    "# если хочется считать скор метрики оргов\n",
    "losses = []\n",
    "for i in range(20):\n",
    "    # делает один проход по даталоадеру\n",
    "    trainer.train_step(train_dl, verbose=True)\n",
    "    \n",
    "    # формируем предсказания\n",
    "    model.eval()\n",
    "    preds = []\n",
    "    for batch in tqdm.tqdm(val_dl):\n",
    "        batch = batch[0].to(device)\n",
    "        pred = model(batch)\n",
    "        preds.append(pred.cpu().detach().numpy())\n",
    "    preds = np.vstack(preds)\n",
    "    \n",
    "    # считаем скор метрики оргов\n",
    "    score = lwlrap_score(test_y, preds)\n",
    "    print(score)\n",
    "    \n",
    "    losses.append(score)"
   ]
  },
  {
   "cell_type": "code",
   "execution_count": null,
   "metadata": {},
   "outputs": [],
   "source": [
    "# test inference\n",
    "\n",
    "with open(join_path('test_mels.pkl'), 'rb') as f:\n",
    "    test_data = pickle.load(f)\n",
    "    \n",
    "test_filepaths = glob.glob(join_path('test/*'))\n",
    "\n",
    "test_ds = TensorDataset(torch.tensor(test_data).unsqueeze(1))\n",
    "test_dl = DataLoader(test_ds, batch_size=64)\n",
    "\n",
    "model.eval()\n",
    "preds = []\n",
    "for batch in tqdm.tqdm(test_dl):\n",
    "    batch = batch[0].to(device)\n",
    "    pred = model(batch)\n",
    "    preds.append(pred.cpu().detach().numpy())\n",
    "preds = np.vstack(preds)"
   ]
  },
  {
   "cell_type": "code",
   "execution_count": null,
   "metadata": {},
   "outputs": [],
   "source": [
    "sub = pd.DataFrame(preds)\n",
    "sub.columns = [label for label in cats]\n",
    "sub['fname'] = [fp[-12:] for fp in test_filepaths]\n",
    "sub.to_csv(\"sub3.csv\", index=False)"
   ]
  }
 ],
 "metadata": {
  "kernelspec": {
   "display_name": "Python 3",
   "language": "python",
   "name": "python3"
  },
  "language_info": {
   "codemirror_mode": {
    "name": "ipython",
    "version": 3
   },
   "file_extension": ".py",
   "mimetype": "text/x-python",
   "name": "python",
   "nbconvert_exporter": "python",
   "pygments_lexer": "ipython3",
   "version": "3.6.7"
  }
 },
 "nbformat": 4,
 "nbformat_minor": 2
}
