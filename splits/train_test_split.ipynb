{
 "cells": [
  {
   "cell_type": "markdown",
   "metadata": {},
   "source": [
    "## train test split\n",
    "\n",
    "Creating train test split for validation purposes"
   ]
  },
  {
   "cell_type": "code",
   "execution_count": 41,
   "metadata": {},
   "outputs": [],
   "source": [
    "import numpy as np\n",
    "import pandas as pd\n",
    "\n",
    "import os\n",
    "import glob\n",
    "import shutil\n",
    "import tqdm\n",
    "\n",
    "DATA_PATH = './data'\n",
    "join_path = lambda path: os.path.join(DATA_PATH, path)"
   ]
  },
  {
   "cell_type": "code",
   "execution_count": 23,
   "metadata": {},
   "outputs": [],
   "source": [
    "train = pd.read_csv(join_path('train_curated.csv'))\n",
    "\n",
    "cats = list(set(sum(list(train['labels'].str.split(',').values), [])))\n",
    "\n",
    "targets = np.array(\n",
    "    train['labels'] \\\n",
    "        .str \\\n",
    "        .split(',') \\\n",
    "        .apply(\n",
    "            lambda x: [int(label in x) for label in cats]\n",
    "        ) \\\n",
    "        .tolist()\n",
    ")"
   ]
  },
  {
   "cell_type": "code",
   "execution_count": 32,
   "metadata": {},
   "outputs": [],
   "source": [
    "from skmultilearn.model_selection import iterative_train_test_split\n",
    "\n",
    "train_X, train_y, test_X, test_y = iterative_train_test_split(\n",
    "    X=np.arange(train.shape[0])[:, np.newaxis],\n",
    "    y=targets, \n",
    "    test_size=0.1\n",
    ")"
   ]
  },
  {
   "cell_type": "code",
   "execution_count": 34,
   "metadata": {},
   "outputs": [
    {
     "data": {
      "text/plain": [
       "array([   2,    3,    5, ..., 4967, 4968, 4969])"
      ]
     },
     "execution_count": 34,
     "metadata": {},
     "output_type": "execute_result"
    }
   ],
   "source": [
    "train_X.squeeze(1)"
   ]
  },
  {
   "cell_type": "code",
   "execution_count": 38,
   "metadata": {},
   "outputs": [],
   "source": [
    "train_filepaths = train.loc[train_X.squeeze(1), 'fname'].tolist()\n",
    "val_filepaths = train.loc[test_X.squeeze(1), 'fname'].tolist()"
   ]
  },
  {
   "cell_type": "code",
   "execution_count": 40,
   "metadata": {},
   "outputs": [
    {
     "data": {
      "text/plain": [
       "(4464, 506)"
      ]
     },
     "execution_count": 40,
     "metadata": {},
     "output_type": "execute_result"
    }
   ],
   "source": [
    "len(train_filepaths), len(val_filepaths)"
   ]
  },
  {
   "cell_type": "code",
   "execution_count": 48,
   "metadata": {},
   "outputs": [],
   "source": [
    "train_path = join_path('train_curated')\n",
    "\n",
    "os.mkdir(join_path('split'))\n",
    "os.mkdir(join_path('split/train'))\n",
    "os.mkdir(join_path('split/val'))"
   ]
  },
  {
   "cell_type": "code",
   "execution_count": 51,
   "metadata": {},
   "outputs": [
    {
     "name": "stderr",
     "output_type": "stream",
     "text": [
      "100%|██████████| 4464/4464 [00:12<00:00, 367.77it/s]\n",
      "100%|██████████| 506/506 [00:01<00:00, 266.98it/s]\n"
     ]
    }
   ],
   "source": [
    "for fp in tqdm.tqdm(train_filepaths):\n",
    "    shutil.copy(os.path.join(train_path, fp), join_path('split/train'))\n",
    "    \n",
    "for fp in tqdm.tqdm(val_filepaths):\n",
    "    shutil.copy(os.path.join(train_path, fp), join_path('split/val'))"
   ]
  }
 ],
 "metadata": {
  "kernelspec": {
   "display_name": "Python 3",
   "language": "python",
   "name": "python3"
  },
  "language_info": {
   "codemirror_mode": {
    "name": "ipython",
    "version": 3
   },
   "file_extension": ".py",
   "mimetype": "text/x-python",
   "name": "python",
   "nbconvert_exporter": "python",
   "pygments_lexer": "ipython3",
   "version": "3.7.1"
  }
 },
 "nbformat": 4,
 "nbformat_minor": 2
}
