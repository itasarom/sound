{
 "cells": [
  {
   "cell_type": "code",
   "execution_count": 7,
   "metadata": {},
   "outputs": [],
   "source": [
    "!export CUDA_VISIBLE_DEVICES=0"
   ]
  },
  {
   "cell_type": "code",
   "execution_count": 16,
   "metadata": {},
   "outputs": [
    {
     "data": {
      "text/plain": [
       "KeysView(environ({'LC_PAPER': 'ru_RU.UTF-8', 'XDG_SESSION_ID': '1', 'LC_ADDRESS': 'ru_RU.UTF-8', 'SPARK_HOME': '/dsvm/tools/spark/current', 'LC_MONETARY': 'ru_RU.UTF-8', 'TERM': 'xterm-color', 'SHELL': '/bin/bash', 'SSH_CLIENT': '91.78.48.22 34250 22', 'CONDA_SHLVL': '2', 'LIBRARY_PATH': '/opt/intel/compilers_and_libraries_2018.1.163/linux/tbb/lib/intel64_lin/gcc4.7:/opt/intel/compilers_and_libraries_2018.1.163/linux/compiler/lib/intel64_lin:/opt/intel/compilers_and_libraries_2018.1.163/linux/mkl/lib/intel64_lin:/usr/local/cuda/lib64:/usr/local/cuda/extras/CUPTI/lib64/:/opt/intel/compilers_and_libraries_2018.1.163/linux/tbb/lib/intel64_lin/gcc4.7:/opt/intel/compilers_and_libraries_2018.1.163/linux/compiler/lib/intel64_lin:/opt/intel/compilers_and_libraries_2018.1.163/linux/mkl/lib/intel64_lin:/usr/local/cuda/lib64:/usr/local/cuda/extras/CUPTI/lib64/:/opt/intel/compilers_and_libraries_2018.1.163/linux/tbb/lib/intel64_lin/gcc4.7:/opt/intel/compilers_and_libraries_2018.1.163/linux/compiler/lib/intel64_lin:/opt/intel/compilers_and_libraries_2018.1.163/linux/mkl/lib/intel64_lin:/usr/local/cuda/lib64:/usr/local/cuda/extras/CUPTI/lib64/:', 'CONDA_PROMPT_MODIFIER': '(py36) ', 'LC_NUMERIC': 'ru_RU.UTF-8', 'SSH_TTY': '/dev/pts/0', 'USER': 'itasarom', 'LD_LIBRARY_PATH': '/opt/intel/compilers_and_libraries_2018.1.163/linux/tbb/lib/intel64_lin/gcc4.7:/opt/intel/compilers_and_libraries_2018.1.163/linux/compiler/lib/intel64_lin:/opt/intel/compilers_and_libraries_2018.1.163/linux/mkl/lib/intel64_lin:/opt/intel/compilers_and_libraries_2018.1.163/linux/tbb/lib/intel64_lin/gcc4.7:/opt/intel/compilers_and_libraries_2018.1.163/linux/compiler/lib/intel64_lin:/opt/intel/compilers_and_libraries_2018.1.163/linux/mkl/lib/intel64_lin:/opt/intel/compilers_and_libraries_2018.1.163/linux/tbb/lib/intel64_lin/gcc4.7:/opt/intel/compilers_and_libraries_2018.1.163/linux/compiler/lib/intel64_lin:/opt/intel/compilers_and_libraries_2018.1.163/linux/mkl/lib/intel64_lin::/usr/local/cuda/lib64:/usr/local/cuda/extras/CUPTI/lib64/:/usr/local/cuda/lib64:/usr/local/cuda/extras/CUPTI/lib64/:/usr/local/cuda/lib64:/usr/local/cuda/extras/CUPTI/lib64/', 'LC_TELEPHONE': 'ru_RU.UTF-8', 'LS_COLORS': 'rs=0:di=01;34:ln=01;36:mh=00:pi=40;33:so=01;35:do=01;35:bd=40;33;01:cd=40;33;01:or=40;31;01:mi=00:su=37;41:sg=30;43:ca=30;41:tw=30;42:ow=34;42:st=37;44:ex=01;32:*.tar=01;31:*.tgz=01;31:*.arc=01;31:*.arj=01;31:*.taz=01;31:*.lha=01;31:*.lz4=01;31:*.lzh=01;31:*.lzma=01;31:*.tlz=01;31:*.txz=01;31:*.tzo=01;31:*.t7z=01;31:*.zip=01;31:*.z=01;31:*.Z=01;31:*.dz=01;31:*.gz=01;31:*.lrz=01;31:*.lz=01;31:*.lzo=01;31:*.xz=01;31:*.bz2=01;31:*.bz=01;31:*.tbz=01;31:*.tbz2=01;31:*.tz=01;31:*.deb=01;31:*.rpm=01;31:*.jar=01;31:*.war=01;31:*.ear=01;31:*.sar=01;31:*.rar=01;31:*.alz=01;31:*.ace=01;31:*.zoo=01;31:*.cpio=01;31:*.7z=01;31:*.rz=01;31:*.cab=01;31:*.jpg=01;35:*.jpeg=01;35:*.gif=01;35:*.bmp=01;35:*.pbm=01;35:*.pgm=01;35:*.ppm=01;35:*.tga=01;35:*.xbm=01;35:*.xpm=01;35:*.tif=01;35:*.tiff=01;35:*.png=01;35:*.svg=01;35:*.svgz=01;35:*.mng=01;35:*.pcx=01;35:*.mov=01;35:*.mpg=01;35:*.mpeg=01;35:*.m2v=01;35:*.mkv=01;35:*.webm=01;35:*.ogm=01;35:*.mp4=01;35:*.m4v=01;35:*.mp4v=01;35:*.vob=01;35:*.qt=01;35:*.nuv=01;35:*.wmv=01;35:*.asf=01;35:*.rm=01;35:*.rmvb=01;35:*.flc=01;35:*.avi=01;35:*.fli=01;35:*.flv=01;35:*.gl=01;35:*.dl=01;35:*.xcf=01;35:*.xwd=01;35:*.yuv=01;35:*.cgm=01;35:*.emf=01;35:*.ogv=01;35:*.ogx=01;35:*.aac=00;36:*.au=00;36:*.flac=00;36:*.m4a=00;36:*.mid=00;36:*.midi=00;36:*.mka=00;36:*.mp3=00;36:*.mpc=00;36:*.ogg=00;36:*.ra=00;36:*.wav=00;36:*.oga=00;36:*.opus=00;36:*.spx=00;36:*.xspf=00;36:', 'CONDA_EXE': '/data/anaconda/bin/conda', 'PYSPARK_PYTHON': '/anaconda/bin/python', 'CPATH': '/opt/intel/compilers_and_libraries_2018.1.163/linux/mkl/include:/opt/intel/compilers_and_libraries_2018.1.163/linux/mkl/include:/opt/intel/compilers_and_libraries_2018.1.163/linux/mkl/include:', 'JPY_PARENT_PID': '6965', 'TMUX': '/tmp/tmux-1003/default,5340,1', 'CUPIT_LIB_PATH': '/usr/local/cuda/extras/CUPTI/lib64/', 'CONDA_PREFIX_1': '/data/anaconda/envs/py35', 'NLSPATH': '/opt/intel/compilers_and_libraries_2018.1.163/linux/mkl/lib/intel64_lin/locale/%l_%t/%N', 'PATH': '/data/anaconda/envs/py36/bin:/data/anaconda/envs/py36/bin:/home/itasarom/bin:/home/itasarom/.local/bin:/home/itasarom/bin:/home/itasarom/.local/bin:/data/anaconda/envs/py35/bin:/usr/local/sbin:/usr/local/bin:/usr/sbin:/usr/bin:/sbin:/bin:/usr/games:/usr/local/games:/snap/bin:/opt/caffe/build/install/bin/:/usr/local/cuda/bin:/dsvm/tools/cntk/cntk/bin:/dsvm/tools/spark/current/bin:/opt/mssql-tools/bin:/opt/caffe/build/install/bin/:/usr/local/cuda/bin:/dsvm/tools/cntk/cntk/bin:/dsvm/tools/spark/current/bin:/opt/mssql-tools/bin:/opt/caffe/build/install/bin/:/usr/local/cuda/bin:/dsvm/tools/cntk/cntk/bin:/dsvm/tools/spark/current/bin:/opt/mssql-tools/bin', 'MAIL': '/var/mail/itasarom', 'LC_IDENTIFICATION': 'ru_RU.UTF-8', 'EVENT_NOEPOLL': '1', 'CONDA_PREFIX': '/data/anaconda/envs/py36', 'PWD': '/data/home/itasarom/projects/sound', 'JAVA_HOME': '/usr/lib/jvm/java-1.8.0-openjdk-amd64', 'LANG': 'en_US.UTF-8', 'NODE_PATH': '/usr/lib/node_modules', 'LC_MEASUREMENT': 'ru_RU.UTF-8', 'TMUX_PANE': '%1', 'SHLVL': '3', 'HOME': '/home/itasarom', 'MXNET_HOME': '/data/mxnet', 'PYTHONPATH': '/opt/caffe/python:/opt/caffe2/build:/opt/caffe/python:/opt/caffe2/build:/opt/caffe/python:/opt/caffe2/build:', 'CONDA_PYTHON_EXE': '/data/anaconda/bin/python', 'LOGNAME': 'itasarom', 'XDG_DATA_DIRS': '/usr/local/share:/usr/share:/var/lib/snapd/desktop', 'SSH_CONNECTION': '91.78.48.22 34250 192.168.1.4 22', 'LESSOPEN': '| /usr/bin/lesspipe %s', 'CONDA_DEFAULT_ENV': 'py36', 'AZURE_EXTENSION_DIR': '/opt/az/extensions', 'PKG_CONFIG_PATH': '/opt/intel/compilers_and_libraries_2018.1.163/linux/mkl/bin/pkgconfig:/opt/intel/compilers_and_libraries_2018.1.163/linux/mkl/bin/pkgconfig:/opt/intel/compilers_and_libraries_2018.1.163/linux/mkl/bin/pkgconfig:', 'SCALA_HOME': '/usr/share/scala', 'XDG_RUNTIME_DIR': '/run/user/1003', 'CUDA_ROOT': '/usr/local/cuda', 'CAFFE_ROOT': '/opt/caffe', 'LESSCLOSE': '/usr/bin/lesspipe %s %s', 'LC_TIME': 'ru_RU.UTF-8', 'LC_NAME': 'ru_RU.UTF-8', '_': '/anaconda/envs/py36/bin/python', 'CLICOLOR': '1', 'PAGER': 'cat', 'GIT_PAGER': 'cat', 'MPLBACKEND': 'module://ipykernel.pylab.backend_inline'}))"
      ]
     },
     "execution_count": 16,
     "metadata": {},
     "output_type": "execute_result"
    }
   ],
   "source": [
    "os.environ"
   ]
  },
  {
   "cell_type": "code",
   "execution_count": 8,
   "metadata": {
    "_cell_guid": "b1076dfc-b9ad-4769-8c92-a6c4dae69d19",
    "_uuid": "8f2839f25d086af736a60e9eeb907d3b93b6e0e5"
   },
   "outputs": [
    {
     "name": "stdout",
     "output_type": "stream",
     "text": [
      "['train_curated', 'test.zip', 'train_noisy.zip', 'train_curated.zip', 'test', 'train_curated.csv', 'train_noisy.csv', 'train_noisy', 'sample_submission.csv']\n"
     ]
    }
   ],
   "source": [
    "import numpy as np\n",
    "import pandas as pd \n",
    "from scipy.io import wavfile\n",
    "import matplotlib.pyplot as plt\n",
    "import seaborn as sns \n",
    "%matplotlib inline\n",
    "np.random.seed(101)\n",
    "import IPython.display as ipd\n",
    "import os\n",
    "from scipy import signal\n",
    "print(os.listdir(\"./data\"))\n",
    "from tqdm import tqdm, tqdm_notebook; tqdm.pandas() # Progress bar\n",
    "from sklearn.metrics import label_ranking_average_precision_score\n",
    "from sklearn.model_selection import train_test_split\n",
    "\n",
    "# Machine Learning\n",
    "import tensorflow as tf\n",
    "from keras import backend as K\n",
    "from keras.engine.topology import Layer\n",
    "from keras import initializers, regularizers, constraints, optimizers, layers\n",
    "from keras.layers import (Dense, Bidirectional, CuDNNLSTM,\n",
    "                          Dropout, LeakyReLU, Convolution2D, \n",
    "                          Conv2D, Conv1D)\n",
    "from keras.models import Sequential\n",
    "from keras.optimizers import Adam\n",
    "from keras.callbacks import EarlyStopping\n",
    "\n",
    "import warnings; warnings.filterwarnings(\"ignore\")\n",
    "#print(os.listdir(\"../input/train_curated\"))"
   ]
  },
  {
   "cell_type": "code",
   "execution_count": 9,
   "metadata": {
    "_cell_guid": "79c7e3d0-c299-4dcb-8224-4455121ee9b0",
    "_uuid": "d629ff2d2480ee46fbb7e2d37f6b5fab8052498a"
   },
   "outputs": [],
   "source": [
    "train_cur = pd.read_csv(\"./data/train_curated.csv\")\n",
    "train_nos = pd.read_csv(\"./data/train_noisy.csv\")\n",
    "test = pd.read_csv(\"./data/sample_submission.csv\")"
   ]
  },
  {
   "cell_type": "code",
   "execution_count": 10,
   "metadata": {},
   "outputs": [
    {
     "data": {
      "text/html": [
       "<div>\n",
       "<style scoped>\n",
       "    .dataframe tbody tr th:only-of-type {\n",
       "        vertical-align: middle;\n",
       "    }\n",
       "\n",
       "    .dataframe tbody tr th {\n",
       "        vertical-align: top;\n",
       "    }\n",
       "\n",
       "    .dataframe thead th {\n",
       "        text-align: right;\n",
       "    }\n",
       "</style>\n",
       "<table border=\"1\" class=\"dataframe\">\n",
       "  <thead>\n",
       "    <tr style=\"text-align: right;\">\n",
       "      <th></th>\n",
       "      <th>fname</th>\n",
       "      <th>labels</th>\n",
       "    </tr>\n",
       "  </thead>\n",
       "  <tbody>\n",
       "    <tr>\n",
       "      <th>0</th>\n",
       "      <td>0006ae4e.wav</td>\n",
       "      <td>Bark</td>\n",
       "    </tr>\n",
       "    <tr>\n",
       "      <th>1</th>\n",
       "      <td>0019ef41.wav</td>\n",
       "      <td>Raindrop</td>\n",
       "    </tr>\n",
       "    <tr>\n",
       "      <th>2</th>\n",
       "      <td>001ec0ad.wav</td>\n",
       "      <td>Finger_snapping</td>\n",
       "    </tr>\n",
       "    <tr>\n",
       "      <th>3</th>\n",
       "      <td>0026c7cb.wav</td>\n",
       "      <td>Run</td>\n",
       "    </tr>\n",
       "    <tr>\n",
       "      <th>4</th>\n",
       "      <td>0026f116.wav</td>\n",
       "      <td>Finger_snapping</td>\n",
       "    </tr>\n",
       "  </tbody>\n",
       "</table>\n",
       "</div>"
      ],
      "text/plain": [
       "          fname           labels\n",
       "0  0006ae4e.wav             Bark\n",
       "1  0019ef41.wav         Raindrop\n",
       "2  001ec0ad.wav  Finger_snapping\n",
       "3  0026c7cb.wav              Run\n",
       "4  0026f116.wav  Finger_snapping"
      ]
     },
     "execution_count": 10,
     "metadata": {},
     "output_type": "execute_result"
    }
   ],
   "source": [
    "train_cur.head()"
   ]
  },
  {
   "cell_type": "code",
   "execution_count": 11,
   "metadata": {},
   "outputs": [
    {
     "data": {
      "text/html": [
       "<div>\n",
       "<style scoped>\n",
       "    .dataframe tbody tr th:only-of-type {\n",
       "        vertical-align: middle;\n",
       "    }\n",
       "\n",
       "    .dataframe tbody tr th {\n",
       "        vertical-align: top;\n",
       "    }\n",
       "\n",
       "    .dataframe thead th {\n",
       "        text-align: right;\n",
       "    }\n",
       "</style>\n",
       "<table border=\"1\" class=\"dataframe\">\n",
       "  <thead>\n",
       "    <tr style=\"text-align: right;\">\n",
       "      <th></th>\n",
       "      <th>fname</th>\n",
       "      <th>labels</th>\n",
       "    </tr>\n",
       "  </thead>\n",
       "  <tbody>\n",
       "    <tr>\n",
       "      <th>0</th>\n",
       "      <td>00097e21.wav</td>\n",
       "      <td>Bathtub_(filling_or_washing)</td>\n",
       "    </tr>\n",
       "    <tr>\n",
       "      <th>1</th>\n",
       "      <td>000b6cfb.wav</td>\n",
       "      <td>Motorcycle</td>\n",
       "    </tr>\n",
       "    <tr>\n",
       "      <th>2</th>\n",
       "      <td>00116cd2.wav</td>\n",
       "      <td>Marimba_and_xylophone,Glockenspiel</td>\n",
       "    </tr>\n",
       "    <tr>\n",
       "      <th>3</th>\n",
       "      <td>00127d14.wav</td>\n",
       "      <td>Water_tap_and_faucet,Sink_(filling_or_washing)</td>\n",
       "    </tr>\n",
       "    <tr>\n",
       "      <th>4</th>\n",
       "      <td>0019adae.wav</td>\n",
       "      <td>Raindrop</td>\n",
       "    </tr>\n",
       "  </tbody>\n",
       "</table>\n",
       "</div>"
      ],
      "text/plain": [
       "          fname                                          labels\n",
       "0  00097e21.wav                    Bathtub_(filling_or_washing)\n",
       "1  000b6cfb.wav                                      Motorcycle\n",
       "2  00116cd2.wav              Marimba_and_xylophone,Glockenspiel\n",
       "3  00127d14.wav  Water_tap_and_faucet,Sink_(filling_or_washing)\n",
       "4  0019adae.wav                                        Raindrop"
      ]
     },
     "execution_count": 11,
     "metadata": {},
     "output_type": "execute_result"
    }
   ],
   "source": [
    "train_nos.head()"
   ]
  },
  {
   "cell_type": "code",
   "execution_count": 12,
   "metadata": {},
   "outputs": [
    {
     "data": {
      "text/html": [
       "<div>\n",
       "<style scoped>\n",
       "    .dataframe tbody tr th:only-of-type {\n",
       "        vertical-align: middle;\n",
       "    }\n",
       "\n",
       "    .dataframe tbody tr th {\n",
       "        vertical-align: top;\n",
       "    }\n",
       "\n",
       "    .dataframe thead th {\n",
       "        text-align: right;\n",
       "    }\n",
       "</style>\n",
       "<table border=\"1\" class=\"dataframe\">\n",
       "  <thead>\n",
       "    <tr style=\"text-align: right;\">\n",
       "      <th></th>\n",
       "      <th>fname</th>\n",
       "      <th>Accelerating_and_revving_and_vroom</th>\n",
       "      <th>Accordion</th>\n",
       "      <th>Acoustic_guitar</th>\n",
       "      <th>Applause</th>\n",
       "      <th>Bark</th>\n",
       "      <th>Bass_drum</th>\n",
       "      <th>Bass_guitar</th>\n",
       "      <th>Bathtub_(filling_or_washing)</th>\n",
       "      <th>Bicycle_bell</th>\n",
       "      <th>...</th>\n",
       "      <th>Toilet_flush</th>\n",
       "      <th>Traffic_noise_and_roadway_noise</th>\n",
       "      <th>Trickle_and_dribble</th>\n",
       "      <th>Walk_and_footsteps</th>\n",
       "      <th>Water_tap_and_faucet</th>\n",
       "      <th>Waves_and_surf</th>\n",
       "      <th>Whispering</th>\n",
       "      <th>Writing</th>\n",
       "      <th>Yell</th>\n",
       "      <th>Zipper_(clothing)</th>\n",
       "    </tr>\n",
       "  </thead>\n",
       "  <tbody>\n",
       "    <tr>\n",
       "      <th>0</th>\n",
       "      <td>000ccb97.wav</td>\n",
       "      <td>0</td>\n",
       "      <td>0</td>\n",
       "      <td>0</td>\n",
       "      <td>0</td>\n",
       "      <td>0</td>\n",
       "      <td>0</td>\n",
       "      <td>0</td>\n",
       "      <td>0</td>\n",
       "      <td>0</td>\n",
       "      <td>...</td>\n",
       "      <td>0</td>\n",
       "      <td>0</td>\n",
       "      <td>0</td>\n",
       "      <td>0</td>\n",
       "      <td>0</td>\n",
       "      <td>0</td>\n",
       "      <td>0</td>\n",
       "      <td>0</td>\n",
       "      <td>0</td>\n",
       "      <td>0</td>\n",
       "    </tr>\n",
       "    <tr>\n",
       "      <th>1</th>\n",
       "      <td>0012633b.wav</td>\n",
       "      <td>0</td>\n",
       "      <td>0</td>\n",
       "      <td>0</td>\n",
       "      <td>0</td>\n",
       "      <td>0</td>\n",
       "      <td>0</td>\n",
       "      <td>0</td>\n",
       "      <td>0</td>\n",
       "      <td>0</td>\n",
       "      <td>...</td>\n",
       "      <td>0</td>\n",
       "      <td>0</td>\n",
       "      <td>0</td>\n",
       "      <td>0</td>\n",
       "      <td>0</td>\n",
       "      <td>0</td>\n",
       "      <td>0</td>\n",
       "      <td>0</td>\n",
       "      <td>0</td>\n",
       "      <td>0</td>\n",
       "    </tr>\n",
       "    <tr>\n",
       "      <th>2</th>\n",
       "      <td>001ed5f1.wav</td>\n",
       "      <td>0</td>\n",
       "      <td>0</td>\n",
       "      <td>0</td>\n",
       "      <td>0</td>\n",
       "      <td>0</td>\n",
       "      <td>0</td>\n",
       "      <td>0</td>\n",
       "      <td>0</td>\n",
       "      <td>0</td>\n",
       "      <td>...</td>\n",
       "      <td>0</td>\n",
       "      <td>0</td>\n",
       "      <td>0</td>\n",
       "      <td>0</td>\n",
       "      <td>0</td>\n",
       "      <td>0</td>\n",
       "      <td>0</td>\n",
       "      <td>0</td>\n",
       "      <td>0</td>\n",
       "      <td>0</td>\n",
       "    </tr>\n",
       "    <tr>\n",
       "      <th>3</th>\n",
       "      <td>00294be0.wav</td>\n",
       "      <td>0</td>\n",
       "      <td>0</td>\n",
       "      <td>0</td>\n",
       "      <td>0</td>\n",
       "      <td>0</td>\n",
       "      <td>0</td>\n",
       "      <td>0</td>\n",
       "      <td>0</td>\n",
       "      <td>0</td>\n",
       "      <td>...</td>\n",
       "      <td>0</td>\n",
       "      <td>0</td>\n",
       "      <td>0</td>\n",
       "      <td>0</td>\n",
       "      <td>0</td>\n",
       "      <td>0</td>\n",
       "      <td>0</td>\n",
       "      <td>0</td>\n",
       "      <td>0</td>\n",
       "      <td>0</td>\n",
       "    </tr>\n",
       "    <tr>\n",
       "      <th>4</th>\n",
       "      <td>003fde7a.wav</td>\n",
       "      <td>0</td>\n",
       "      <td>0</td>\n",
       "      <td>0</td>\n",
       "      <td>0</td>\n",
       "      <td>0</td>\n",
       "      <td>0</td>\n",
       "      <td>0</td>\n",
       "      <td>0</td>\n",
       "      <td>0</td>\n",
       "      <td>...</td>\n",
       "      <td>0</td>\n",
       "      <td>0</td>\n",
       "      <td>0</td>\n",
       "      <td>0</td>\n",
       "      <td>0</td>\n",
       "      <td>0</td>\n",
       "      <td>0</td>\n",
       "      <td>0</td>\n",
       "      <td>0</td>\n",
       "      <td>0</td>\n",
       "    </tr>\n",
       "  </tbody>\n",
       "</table>\n",
       "<p>5 rows × 81 columns</p>\n",
       "</div>"
      ],
      "text/plain": [
       "          fname  Accelerating_and_revving_and_vroom  Accordion  \\\n",
       "0  000ccb97.wav                                   0          0   \n",
       "1  0012633b.wav                                   0          0   \n",
       "2  001ed5f1.wav                                   0          0   \n",
       "3  00294be0.wav                                   0          0   \n",
       "4  003fde7a.wav                                   0          0   \n",
       "\n",
       "   Acoustic_guitar  Applause  Bark  Bass_drum  Bass_guitar  \\\n",
       "0                0         0     0          0            0   \n",
       "1                0         0     0          0            0   \n",
       "2                0         0     0          0            0   \n",
       "3                0         0     0          0            0   \n",
       "4                0         0     0          0            0   \n",
       "\n",
       "   Bathtub_(filling_or_washing)  Bicycle_bell        ...          \\\n",
       "0                             0             0        ...           \n",
       "1                             0             0        ...           \n",
       "2                             0             0        ...           \n",
       "3                             0             0        ...           \n",
       "4                             0             0        ...           \n",
       "\n",
       "   Toilet_flush  Traffic_noise_and_roadway_noise  Trickle_and_dribble  \\\n",
       "0             0                                0                    0   \n",
       "1             0                                0                    0   \n",
       "2             0                                0                    0   \n",
       "3             0                                0                    0   \n",
       "4             0                                0                    0   \n",
       "\n",
       "   Walk_and_footsteps  Water_tap_and_faucet  Waves_and_surf  Whispering  \\\n",
       "0                   0                     0               0           0   \n",
       "1                   0                     0               0           0   \n",
       "2                   0                     0               0           0   \n",
       "3                   0                     0               0           0   \n",
       "4                   0                     0               0           0   \n",
       "\n",
       "   Writing  Yell  Zipper_(clothing)  \n",
       "0        0     0                  0  \n",
       "1        0     0                  0  \n",
       "2        0     0                  0  \n",
       "3        0     0                  0  \n",
       "4        0     0                  0  \n",
       "\n",
       "[5 rows x 81 columns]"
      ]
     },
     "execution_count": 12,
     "metadata": {},
     "output_type": "execute_result"
    }
   ],
   "source": [
    "test.head()"
   ]
  },
  {
   "cell_type": "code",
   "execution_count": 9,
   "metadata": {},
   "outputs": [
    {
     "data": {
      "text/html": [
       "\n",
       "                <audio controls=\"controls\" >\n",
       "                    <source src=\"data:audio/x-wav;base64,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\" type=\"audio/x-wav\" />\n",
       "                    Your browser does not support the audio element.\n",
       "                </audio>\n",
       "              "
      ],
      "text/plain": [
       "<IPython.lib.display.Audio object>"
      ]
     },
     "execution_count": 9,
     "metadata": {},
     "output_type": "execute_result"
    }
   ],
   "source": [
    "train_audio_cur = \"./data/train_curated/\"\n",
    "ipd.Audio(train_audio_cur+\"31a0f9cc.wav\")\n"
   ]
  },
  {
   "cell_type": "code",
   "execution_count": 10,
   "metadata": {},
   "outputs": [
    {
     "data": {
      "text/html": [
       "<div>\n",
       "<style scoped>\n",
       "    .dataframe tbody tr th:only-of-type {\n",
       "        vertical-align: middle;\n",
       "    }\n",
       "\n",
       "    .dataframe tbody tr th {\n",
       "        vertical-align: top;\n",
       "    }\n",
       "\n",
       "    .dataframe thead th {\n",
       "        text-align: right;\n",
       "    }\n",
       "</style>\n",
       "<table border=\"1\" class=\"dataframe\">\n",
       "  <thead>\n",
       "    <tr style=\"text-align: right;\">\n",
       "      <th></th>\n",
       "      <th>fname</th>\n",
       "      <th>labels</th>\n",
       "    </tr>\n",
       "  </thead>\n",
       "  <tbody>\n",
       "    <tr>\n",
       "      <th>945</th>\n",
       "      <td>31a0f9cc.wav</td>\n",
       "      <td>Clapping</td>\n",
       "    </tr>\n",
       "  </tbody>\n",
       "</table>\n",
       "</div>"
      ],
      "text/plain": [
       "            fname    labels\n",
       "945  31a0f9cc.wav  Clapping"
      ]
     },
     "execution_count": 10,
     "metadata": {},
     "output_type": "execute_result"
    }
   ],
   "source": [
    "train_cur.loc[train_cur['fname']=='31a0f9cc.wav']"
   ]
  },
  {
   "cell_type": "code",
   "execution_count": 11,
   "metadata": {},
   "outputs": [
    {
     "name": "stdout",
     "output_type": "stream",
     "text": [
      "Sampling Rate: 44100\n",
      "Data of the audio wave: [-3 -5 -4 ... -4 -8 -8]\n",
      "Duration of Audio file: 0.3134920634920635\n"
     ]
    }
   ],
   "source": [
    "sampling_rate, data = wavfile.read(train_audio_cur+\"31a0f9cc.wav\")\n",
    "print(\"Sampling Rate: {}\".format(sampling_rate))\n",
    "print(\"Data of the audio wave: {}\".format(data))\n",
    "print(\"Duration of Audio file: {}\".format(len(data)/sampling_rate))"
   ]
  },
  {
   "cell_type": "code",
   "execution_count": 12,
   "metadata": {},
   "outputs": [
    {
     "data": {
      "image/png": "[encoded data removed]",
      "text/plain": [
       "<Figure size 1152x648 with 1 Axes>"
      ]
     },
     "metadata": {
      "needs_background": "light"
     },
     "output_type": "display_data"
    }
   ],
   "source": [
    "def plot_raw_wave(data):\n",
    "    plt.figure(figsize=(16,9))\n",
    "    plt.title(\"Raw Representation of Audio Wave\")\n",
    "    plt.ylabel(\"Amplitude\")\n",
    "    plt.plot(data)\n",
    "plot_raw_wave(data)"
   ]
  },
  {
   "cell_type": "code",
   "execution_count": 13,
   "metadata": {},
   "outputs": [
    {
     "data": {
      "image/png": "[encoded data removed]",
      "text/plain": [
       "<Figure size 1152x648 with 1 Axes>"
      ]
     },
     "metadata": {
      "needs_background": "light"
     },
     "output_type": "display_data"
    }
   ],
   "source": [
    "#https://www.kaggle.com/davids1992/audio-representation-what-it-s-all-about\n",
    "def log_specgram(audio, sample_rate, window_size=100,\n",
    "                 step_size=10, eps=1e-10):\n",
    "    nperseg = int(round(window_size * sample_rate / 1e3))\n",
    "    noverlap = int(round(step_size * sample_rate / 1e3))\n",
    "    freqs, times, spec = signal.spectrogram(audio,\n",
    "                                    fs=sample_rate,\n",
    "                                    window='hann',\n",
    "                                    nperseg=nperseg,\n",
    "                                    noverlap=noverlap,\n",
    "                                    detrend=False)\n",
    "    return freqs, times, np.log(spec.T.astype(np.float32) + eps)\n",
    "\n",
    "def plot_log_specgram(audio, sample_rate, window_size=20, step_size=10, eps=1e-10):\n",
    "    \n",
    "    fig = plt.figure(figsize=(16,9))\n",
    "    freqs, times, spectrogram = log_specgram(audio, sample_rate)\n",
    "    plt.imshow(spectrogram.T, aspect='auto', origin='lower', \n",
    "               extent=[times.min(), times.max(), freqs.min(), freqs.max()])\n",
    "    plt.yticks(freqs[::16])\n",
    "    plt.xticks(times[::16])\n",
    "    plt.title('Spectrogram')\n",
    "    plt.ylabel('Freqs in Hz')\n",
    "    plt.xlabel('Seconds')\n",
    "    plt.show()\n",
    "plot_log_specgram(data, sampling_rate, window_size=1000,step_size=10)"
   ]
  },
  {
   "cell_type": "code",
   "execution_count": 14,
   "metadata": {},
   "outputs": [],
   "source": [
    "import librosa\n",
    "import librosa.display"
   ]
  },
  {
   "cell_type": "code",
   "execution_count": 15,
   "metadata": {},
   "outputs": [
    {
     "data": {
      "image/png": "[encoded data removed]",
      "text/plain": [
       "<Figure size 1152x648 with 2 Axes>"
      ]
     },
     "metadata": {
      "needs_background": "light"
     },
     "output_type": "display_data"
    }
   ],
   "source": [
    "#https://www.kaggle.com/davids1992/audio-representation-what-it-s-all-about\n",
    "S = librosa.feature.melspectrogram(data.astype(float), sr=sampling_rate, n_mels=128)\n",
    "\n",
    "# Convert to log scale (dB). We'll use the peak power (max) as reference.\n",
    "log_S = librosa.power_to_db(S, ref=np.max)\n",
    "\n",
    "plt.figure(figsize=(16, 9))\n",
    "librosa.display.specshow(log_S, sr=sampling_rate, x_axis='time', y_axis='mel')\n",
    "plt.title('Mel power spectrogram ')\n",
    "plt.colorbar(format='%+02.0f dB')\n",
    "plt.tight_layout()"
   ]
  },
  {
   "cell_type": "code",
   "execution_count": 16,
   "metadata": {},
   "outputs": [
    {
     "data": {
      "image/png": "[encoded data removed]",
      "text/plain": [
       "<Figure size 864x288 with 2 Axes>"
      ]
     },
     "metadata": {
      "needs_background": "light"
     },
     "output_type": "display_data"
    }
   ],
   "source": [
    "mfcc = librosa.feature.mfcc(S=log_S, n_mfcc=13)\n",
    "\n",
    "# Let's pad on the first and second deltas while we're at it\n",
    "delta2_mfcc = librosa.feature.delta(mfcc, order=2)\n",
    "\n",
    "plt.figure(figsize=(12, 4))\n",
    "librosa.display.specshow(delta2_mfcc)\n",
    "plt.ylabel('MFCC coeffs')\n",
    "plt.xlabel('Time')\n",
    "plt.title('MFCC')\n",
    "plt.colorbar()\n",
    "plt.tight_layout()"
   ]
  },
  {
   "cell_type": "code",
   "execution_count": 17,
   "metadata": {},
   "outputs": [],
   "source": [
    "def calculate_overall_lwlrap_sklearn(truth, scores):\n",
    "    \"\"\"Calculate the overall lwlrap using sklearn.metrics.lrap.\"\"\"\n",
    "    # sklearn doesn't correctly apply weighting to samples with no labels, so just skip them.\n",
    "    sample_weight = np.sum(truth > 0, axis=1)\n",
    "    nonzero_weight_sample_indices = np.flatnonzero(sample_weight > 0)\n",
    "    overall_lwlrap = label_ranking_average_precision_score(\n",
    "        truth[nonzero_weight_sample_indices, :] > 0, \n",
    "        scores[nonzero_weight_sample_indices, :], \n",
    "        sample_weight=sample_weight[nonzero_weight_sample_indices])\n",
    "    return overall_lwlrap\n"
   ]
  },
  {
   "cell_type": "code",
   "execution_count": 18,
   "metadata": {},
   "outputs": [],
   "source": [
    "def split_and_label(rows_label):\n",
    "    labeled_rows = []\n",
    "    for row in rows_label:\n",
    "        rows_label = row.split(\",\")\n",
    "        arr = np.zeros((80))\n",
    "        for label in rows_label:\n",
    "            idx = label_mapping[label]\n",
    "            arr[idx] = 1\n",
    "        labeled_rows.append(arr)\n",
    "    return labeled_rows "
   ]
  },
  {
   "cell_type": "code",
   "execution_count": 19,
   "metadata": {},
   "outputs": [
    {
     "name": "stdout",
     "output_type": "stream",
     "text": [
      "Total Number of Classes: 80\n"
     ]
    }
   ],
   "source": [
    "label_columns = test.columns[1:]\n",
    "label_mapping = dict((label,index) for index, label in enumerate(label_columns))\n",
    "print(\"Total Number of Classes: {}\".format(len(label_columns)))"
   ]
  },
  {
   "cell_type": "code",
   "execution_count": 20,
   "metadata": {},
   "outputs": [],
   "source": [
    "train_cur_labels = split_and_label(train_cur['labels'])\n",
    "train_nos_labels = split_and_label(train_nos['labels'])"
   ]
  },
  {
   "cell_type": "code",
   "execution_count": 21,
   "metadata": {},
   "outputs": [],
   "source": [
    "for col in label_columns:\n",
    "    train_cur[col] = 0\n",
    "    train_nos[col] = 0\n",
    "train_cur[label_columns] = train_cur_labels\n",
    "train_nos[label_columns] = train_nos_labels"
   ]
  },
  {
   "cell_type": "code",
   "execution_count": 22,
   "metadata": {},
   "outputs": [
    {
     "data": {
      "text/html": [
       "<div>\n",
       "<style scoped>\n",
       "    .dataframe tbody tr th:only-of-type {\n",
       "        vertical-align: middle;\n",
       "    }\n",
       "\n",
       "    .dataframe tbody tr th {\n",
       "        vertical-align: top;\n",
       "    }\n",
       "\n",
       "    .dataframe thead th {\n",
       "        text-align: right;\n",
       "    }\n",
       "</style>\n",
       "<table border=\"1\" class=\"dataframe\">\n",
       "  <thead>\n",
       "    <tr style=\"text-align: right;\">\n",
       "      <th></th>\n",
       "      <th>fname</th>\n",
       "      <th>labels</th>\n",
       "      <th>Accelerating_and_revving_and_vroom</th>\n",
       "      <th>Accordion</th>\n",
       "      <th>Acoustic_guitar</th>\n",
       "      <th>Applause</th>\n",
       "      <th>Bark</th>\n",
       "      <th>Bass_drum</th>\n",
       "      <th>Bass_guitar</th>\n",
       "      <th>Bathtub_(filling_or_washing)</th>\n",
       "      <th>...</th>\n",
       "      <th>Toilet_flush</th>\n",
       "      <th>Traffic_noise_and_roadway_noise</th>\n",
       "      <th>Trickle_and_dribble</th>\n",
       "      <th>Walk_and_footsteps</th>\n",
       "      <th>Water_tap_and_faucet</th>\n",
       "      <th>Waves_and_surf</th>\n",
       "      <th>Whispering</th>\n",
       "      <th>Writing</th>\n",
       "      <th>Yell</th>\n",
       "      <th>Zipper_(clothing)</th>\n",
       "    </tr>\n",
       "  </thead>\n",
       "  <tbody>\n",
       "    <tr>\n",
       "      <th>0</th>\n",
       "      <td>0006ae4e.wav</td>\n",
       "      <td>Bark</td>\n",
       "      <td>0.0</td>\n",
       "      <td>0.0</td>\n",
       "      <td>0.0</td>\n",
       "      <td>0.0</td>\n",
       "      <td>1.0</td>\n",
       "      <td>0.0</td>\n",
       "      <td>0.0</td>\n",
       "      <td>0.0</td>\n",
       "      <td>...</td>\n",
       "      <td>0.0</td>\n",
       "      <td>0.0</td>\n",
       "      <td>0.0</td>\n",
       "      <td>0.0</td>\n",
       "      <td>0.0</td>\n",
       "      <td>0.0</td>\n",
       "      <td>0.0</td>\n",
       "      <td>0.0</td>\n",
       "      <td>0.0</td>\n",
       "      <td>0.0</td>\n",
       "    </tr>\n",
       "    <tr>\n",
       "      <th>1</th>\n",
       "      <td>0019ef41.wav</td>\n",
       "      <td>Raindrop</td>\n",
       "      <td>0.0</td>\n",
       "      <td>0.0</td>\n",
       "      <td>0.0</td>\n",
       "      <td>0.0</td>\n",
       "      <td>0.0</td>\n",
       "      <td>0.0</td>\n",
       "      <td>0.0</td>\n",
       "      <td>0.0</td>\n",
       "      <td>...</td>\n",
       "      <td>0.0</td>\n",
       "      <td>0.0</td>\n",
       "      <td>0.0</td>\n",
       "      <td>0.0</td>\n",
       "      <td>0.0</td>\n",
       "      <td>0.0</td>\n",
       "      <td>0.0</td>\n",
       "      <td>0.0</td>\n",
       "      <td>0.0</td>\n",
       "      <td>0.0</td>\n",
       "    </tr>\n",
       "    <tr>\n",
       "      <th>2</th>\n",
       "      <td>001ec0ad.wav</td>\n",
       "      <td>Finger_snapping</td>\n",
       "      <td>0.0</td>\n",
       "      <td>0.0</td>\n",
       "      <td>0.0</td>\n",
       "      <td>0.0</td>\n",
       "      <td>0.0</td>\n",
       "      <td>0.0</td>\n",
       "      <td>0.0</td>\n",
       "      <td>0.0</td>\n",
       "      <td>...</td>\n",
       "      <td>0.0</td>\n",
       "      <td>0.0</td>\n",
       "      <td>0.0</td>\n",
       "      <td>0.0</td>\n",
       "      <td>0.0</td>\n",
       "      <td>0.0</td>\n",
       "      <td>0.0</td>\n",
       "      <td>0.0</td>\n",
       "      <td>0.0</td>\n",
       "      <td>0.0</td>\n",
       "    </tr>\n",
       "    <tr>\n",
       "      <th>3</th>\n",
       "      <td>0026c7cb.wav</td>\n",
       "      <td>Run</td>\n",
       "      <td>0.0</td>\n",
       "      <td>0.0</td>\n",
       "      <td>0.0</td>\n",
       "      <td>0.0</td>\n",
       "      <td>0.0</td>\n",
       "      <td>0.0</td>\n",
       "      <td>0.0</td>\n",
       "      <td>0.0</td>\n",
       "      <td>...</td>\n",
       "      <td>0.0</td>\n",
       "      <td>0.0</td>\n",
       "      <td>0.0</td>\n",
       "      <td>0.0</td>\n",
       "      <td>0.0</td>\n",
       "      <td>0.0</td>\n",
       "      <td>0.0</td>\n",
       "      <td>0.0</td>\n",
       "      <td>0.0</td>\n",
       "      <td>0.0</td>\n",
       "    </tr>\n",
       "    <tr>\n",
       "      <th>4</th>\n",
       "      <td>0026f116.wav</td>\n",
       "      <td>Finger_snapping</td>\n",
       "      <td>0.0</td>\n",
       "      <td>0.0</td>\n",
       "      <td>0.0</td>\n",
       "      <td>0.0</td>\n",
       "      <td>0.0</td>\n",
       "      <td>0.0</td>\n",
       "      <td>0.0</td>\n",
       "      <td>0.0</td>\n",
       "      <td>...</td>\n",
       "      <td>0.0</td>\n",
       "      <td>0.0</td>\n",
       "      <td>0.0</td>\n",
       "      <td>0.0</td>\n",
       "      <td>0.0</td>\n",
       "      <td>0.0</td>\n",
       "      <td>0.0</td>\n",
       "      <td>0.0</td>\n",
       "      <td>0.0</td>\n",
       "      <td>0.0</td>\n",
       "    </tr>\n",
       "  </tbody>\n",
       "</table>\n",
       "<p>5 rows × 82 columns</p>\n",
       "</div>"
      ],
      "text/plain": [
       "          fname           labels  Accelerating_and_revving_and_vroom  \\\n",
       "0  0006ae4e.wav             Bark                                 0.0   \n",
       "1  0019ef41.wav         Raindrop                                 0.0   \n",
       "2  001ec0ad.wav  Finger_snapping                                 0.0   \n",
       "3  0026c7cb.wav              Run                                 0.0   \n",
       "4  0026f116.wav  Finger_snapping                                 0.0   \n",
       "\n",
       "   Accordion  Acoustic_guitar  Applause  Bark  Bass_drum  Bass_guitar  \\\n",
       "0        0.0              0.0       0.0   1.0        0.0          0.0   \n",
       "1        0.0              0.0       0.0   0.0        0.0          0.0   \n",
       "2        0.0              0.0       0.0   0.0        0.0          0.0   \n",
       "3        0.0              0.0       0.0   0.0        0.0          0.0   \n",
       "4        0.0              0.0       0.0   0.0        0.0          0.0   \n",
       "\n",
       "   Bathtub_(filling_or_washing)        ...          Toilet_flush  \\\n",
       "0                           0.0        ...                   0.0   \n",
       "1                           0.0        ...                   0.0   \n",
       "2                           0.0        ...                   0.0   \n",
       "3                           0.0        ...                   0.0   \n",
       "4                           0.0        ...                   0.0   \n",
       "\n",
       "   Traffic_noise_and_roadway_noise  Trickle_and_dribble  Walk_and_footsteps  \\\n",
       "0                              0.0                  0.0                 0.0   \n",
       "1                              0.0                  0.0                 0.0   \n",
       "2                              0.0                  0.0                 0.0   \n",
       "3                              0.0                  0.0                 0.0   \n",
       "4                              0.0                  0.0                 0.0   \n",
       "\n",
       "   Water_tap_and_faucet  Waves_and_surf  Whispering  Writing  Yell  \\\n",
       "0                   0.0             0.0         0.0      0.0   0.0   \n",
       "1                   0.0             0.0         0.0      0.0   0.0   \n",
       "2                   0.0             0.0         0.0      0.0   0.0   \n",
       "3                   0.0             0.0         0.0      0.0   0.0   \n",
       "4                   0.0             0.0         0.0      0.0   0.0   \n",
       "\n",
       "   Zipper_(clothing)  \n",
       "0                0.0  \n",
       "1                0.0  \n",
       "2                0.0  \n",
       "3                0.0  \n",
       "4                0.0  \n",
       "\n",
       "[5 rows x 82 columns]"
      ]
     },
     "execution_count": 22,
     "metadata": {},
     "output_type": "execute_result"
    }
   ],
   "source": [
    "train_cur.head()"
   ]
  },
  {
   "cell_type": "code",
   "execution_count": 23,
   "metadata": {},
   "outputs": [
    {
     "data": {
      "text/html": [
       "<div>\n",
       "<style scoped>\n",
       "    .dataframe tbody tr th:only-of-type {\n",
       "        vertical-align: middle;\n",
       "    }\n",
       "\n",
       "    .dataframe tbody tr th {\n",
       "        vertical-align: top;\n",
       "    }\n",
       "\n",
       "    .dataframe thead th {\n",
       "        text-align: right;\n",
       "    }\n",
       "</style>\n",
       "<table border=\"1\" class=\"dataframe\">\n",
       "  <thead>\n",
       "    <tr style=\"text-align: right;\">\n",
       "      <th></th>\n",
       "      <th>fname</th>\n",
       "      <th>labels</th>\n",
       "      <th>Accelerating_and_revving_and_vroom</th>\n",
       "      <th>Accordion</th>\n",
       "      <th>Acoustic_guitar</th>\n",
       "      <th>Applause</th>\n",
       "      <th>Bark</th>\n",
       "      <th>Bass_drum</th>\n",
       "      <th>Bass_guitar</th>\n",
       "      <th>Bathtub_(filling_or_washing)</th>\n",
       "      <th>...</th>\n",
       "      <th>Toilet_flush</th>\n",
       "      <th>Traffic_noise_and_roadway_noise</th>\n",
       "      <th>Trickle_and_dribble</th>\n",
       "      <th>Walk_and_footsteps</th>\n",
       "      <th>Water_tap_and_faucet</th>\n",
       "      <th>Waves_and_surf</th>\n",
       "      <th>Whispering</th>\n",
       "      <th>Writing</th>\n",
       "      <th>Yell</th>\n",
       "      <th>Zipper_(clothing)</th>\n",
       "    </tr>\n",
       "  </thead>\n",
       "  <tbody>\n",
       "    <tr>\n",
       "      <th>0</th>\n",
       "      <td>00097e21.wav</td>\n",
       "      <td>Bathtub_(filling_or_washing)</td>\n",
       "      <td>0.0</td>\n",
       "      <td>0.0</td>\n",
       "      <td>0.0</td>\n",
       "      <td>0.0</td>\n",
       "      <td>0.0</td>\n",
       "      <td>0.0</td>\n",
       "      <td>0.0</td>\n",
       "      <td>1.0</td>\n",
       "      <td>...</td>\n",
       "      <td>0.0</td>\n",
       "      <td>0.0</td>\n",
       "      <td>0.0</td>\n",
       "      <td>0.0</td>\n",
       "      <td>0.0</td>\n",
       "      <td>0.0</td>\n",
       "      <td>0.0</td>\n",
       "      <td>0.0</td>\n",
       "      <td>0.0</td>\n",
       "      <td>0.0</td>\n",
       "    </tr>\n",
       "    <tr>\n",
       "      <th>1</th>\n",
       "      <td>000b6cfb.wav</td>\n",
       "      <td>Motorcycle</td>\n",
       "      <td>0.0</td>\n",
       "      <td>0.0</td>\n",
       "      <td>0.0</td>\n",
       "      <td>0.0</td>\n",
       "      <td>0.0</td>\n",
       "      <td>0.0</td>\n",
       "      <td>0.0</td>\n",
       "      <td>0.0</td>\n",
       "      <td>...</td>\n",
       "      <td>0.0</td>\n",
       "      <td>0.0</td>\n",
       "      <td>0.0</td>\n",
       "      <td>0.0</td>\n",
       "      <td>0.0</td>\n",
       "      <td>0.0</td>\n",
       "      <td>0.0</td>\n",
       "      <td>0.0</td>\n",
       "      <td>0.0</td>\n",
       "      <td>0.0</td>\n",
       "    </tr>\n",
       "    <tr>\n",
       "      <th>2</th>\n",
       "      <td>00116cd2.wav</td>\n",
       "      <td>Marimba_and_xylophone,Glockenspiel</td>\n",
       "      <td>0.0</td>\n",
       "      <td>0.0</td>\n",
       "      <td>0.0</td>\n",
       "      <td>0.0</td>\n",
       "      <td>0.0</td>\n",
       "      <td>0.0</td>\n",
       "      <td>0.0</td>\n",
       "      <td>0.0</td>\n",
       "      <td>...</td>\n",
       "      <td>0.0</td>\n",
       "      <td>0.0</td>\n",
       "      <td>0.0</td>\n",
       "      <td>0.0</td>\n",
       "      <td>0.0</td>\n",
       "      <td>0.0</td>\n",
       "      <td>0.0</td>\n",
       "      <td>0.0</td>\n",
       "      <td>0.0</td>\n",
       "      <td>0.0</td>\n",
       "    </tr>\n",
       "    <tr>\n",
       "      <th>3</th>\n",
       "      <td>00127d14.wav</td>\n",
       "      <td>Water_tap_and_faucet,Sink_(filling_or_washing)</td>\n",
       "      <td>0.0</td>\n",
       "      <td>0.0</td>\n",
       "      <td>0.0</td>\n",
       "      <td>0.0</td>\n",
       "      <td>0.0</td>\n",
       "      <td>0.0</td>\n",
       "      <td>0.0</td>\n",
       "      <td>0.0</td>\n",
       "      <td>...</td>\n",
       "      <td>0.0</td>\n",
       "      <td>0.0</td>\n",
       "      <td>0.0</td>\n",
       "      <td>0.0</td>\n",
       "      <td>1.0</td>\n",
       "      <td>0.0</td>\n",
       "      <td>0.0</td>\n",
       "      <td>0.0</td>\n",
       "      <td>0.0</td>\n",
       "      <td>0.0</td>\n",
       "    </tr>\n",
       "    <tr>\n",
       "      <th>4</th>\n",
       "      <td>0019adae.wav</td>\n",
       "      <td>Raindrop</td>\n",
       "      <td>0.0</td>\n",
       "      <td>0.0</td>\n",
       "      <td>0.0</td>\n",
       "      <td>0.0</td>\n",
       "      <td>0.0</td>\n",
       "      <td>0.0</td>\n",
       "      <td>0.0</td>\n",
       "      <td>0.0</td>\n",
       "      <td>...</td>\n",
       "      <td>0.0</td>\n",
       "      <td>0.0</td>\n",
       "      <td>0.0</td>\n",
       "      <td>0.0</td>\n",
       "      <td>0.0</td>\n",
       "      <td>0.0</td>\n",
       "      <td>0.0</td>\n",
       "      <td>0.0</td>\n",
       "      <td>0.0</td>\n",
       "      <td>0.0</td>\n",
       "    </tr>\n",
       "  </tbody>\n",
       "</table>\n",
       "<p>5 rows × 82 columns</p>\n",
       "</div>"
      ],
      "text/plain": [
       "          fname                                          labels  \\\n",
       "0  00097e21.wav                    Bathtub_(filling_or_washing)   \n",
       "1  000b6cfb.wav                                      Motorcycle   \n",
       "2  00116cd2.wav              Marimba_and_xylophone,Glockenspiel   \n",
       "3  00127d14.wav  Water_tap_and_faucet,Sink_(filling_or_washing)   \n",
       "4  0019adae.wav                                        Raindrop   \n",
       "\n",
       "   Accelerating_and_revving_and_vroom  Accordion  Acoustic_guitar  Applause  \\\n",
       "0                                 0.0        0.0              0.0       0.0   \n",
       "1                                 0.0        0.0              0.0       0.0   \n",
       "2                                 0.0        0.0              0.0       0.0   \n",
       "3                                 0.0        0.0              0.0       0.0   \n",
       "4                                 0.0        0.0              0.0       0.0   \n",
       "\n",
       "   Bark  Bass_drum  Bass_guitar  Bathtub_(filling_or_washing)  \\\n",
       "0   0.0        0.0          0.0                           1.0   \n",
       "1   0.0        0.0          0.0                           0.0   \n",
       "2   0.0        0.0          0.0                           0.0   \n",
       "3   0.0        0.0          0.0                           0.0   \n",
       "4   0.0        0.0          0.0                           0.0   \n",
       "\n",
       "         ...          Toilet_flush  Traffic_noise_and_roadway_noise  \\\n",
       "0        ...                   0.0                              0.0   \n",
       "1        ...                   0.0                              0.0   \n",
       "2        ...                   0.0                              0.0   \n",
       "3        ...                   0.0                              0.0   \n",
       "4        ...                   0.0                              0.0   \n",
       "\n",
       "   Trickle_and_dribble  Walk_and_footsteps  Water_tap_and_faucet  \\\n",
       "0                  0.0                 0.0                   0.0   \n",
       "1                  0.0                 0.0                   0.0   \n",
       "2                  0.0                 0.0                   0.0   \n",
       "3                  0.0                 0.0                   1.0   \n",
       "4                  0.0                 0.0                   0.0   \n",
       "\n",
       "   Waves_and_surf  Whispering  Writing  Yell  Zipper_(clothing)  \n",
       "0             0.0         0.0      0.0   0.0                0.0  \n",
       "1             0.0         0.0      0.0   0.0                0.0  \n",
       "2             0.0         0.0      0.0   0.0                0.0  \n",
       "3             0.0         0.0      0.0   0.0                0.0  \n",
       "4             0.0         0.0      0.0   0.0                0.0  \n",
       "\n",
       "[5 rows x 82 columns]"
      ]
     },
     "execution_count": 23,
     "metadata": {},
     "output_type": "execute_result"
    }
   ],
   "source": [
    "train_nos.head()"
   ]
  },
  {
   "cell_type": "code",
   "execution_count": 24,
   "metadata": {},
   "outputs": [
    {
     "name": "stdout",
     "output_type": "stream",
     "text": [
      "WARNING:tensorflow:From /data/anaconda/envs/py36/lib/python3.6/site-packages/tensorflow/python/framework/op_def_library.py:263: colocate_with (from tensorflow.python.framework.ops) is deprecated and will be removed in a future version.\n",
      "Instructions for updating:\n",
      "Colocations handled automatically by placer.\n"
     ]
    }
   ],
   "source": [
    "input_shape = (890,128)\n",
    "n_classes = 80\n",
    "n_epochs = 500\n",
    "hop_length = 347\n",
    "fmin = 20\n",
    "fmax = sampling_rate // 2\n",
    "n_mels = 128\n",
    "n_fft = n_mels*20\n",
    "opt = Adam(0.003, beta_1=0.75, beta_2=0.85, amsgrad=True)\n",
    "sampling_rate = 44100\n",
    "duration = 7\n",
    "samples = sampling_rate*duration\n"
   ]
  },
  {
   "cell_type": "code",
   "execution_count": 25,
   "metadata": {},
   "outputs": [],
   "source": [
    "def read_audio(pathname, trim_long_data):\n",
    "    y, sr = librosa.load(pathname, sr=sampling_rate)\n",
    "    # trim silence\n",
    "    if 0 < len(y): # workaround: 0 length causes error\n",
    "        y, _ = librosa.effects.trim(y) # trim, top_db=default(60)\n",
    "    # make it unified length to conf.samples\n",
    "    if len(y) > samples: # long enough\n",
    "        if trim_long_data:\n",
    "            y = y[0:0+samples]\n",
    "    else: # pad blank\n",
    "        padding = samples - len(y)    # add padding at both ends\n",
    "        offset = padding // 2\n",
    "        y = np.pad(y, (offset, samples - len(y) - offset), 'constant')\n",
    "    return y\n",
    "\n",
    "def audio_to_melspectrogram(audio):\n",
    "    spectrogram = librosa.feature.melspectrogram(audio, \n",
    "                                                 sr=sampling_rate,\n",
    "                                                 n_mels=n_mels,\n",
    "                                                 hop_length=hop_length,\n",
    "                                                 n_fft=n_fft,\n",
    "                                                 fmin=fmin,\n",
    "                                                 fmax=fmax)\n",
    "    spectrogram = librosa.power_to_db(spectrogram)\n",
    "    spectrogram = spectrogram.astype(np.float32)\n",
    "    return spectrogram\n",
    "\n",
    "def read_as_melspectrogram(pathname, trim_long_data, debug_display=False):\n",
    "    x = read_audio(pathname, trim_long_data)\n",
    "    mels = audio_to_melspectrogram(x)\n",
    "    if debug_display:\n",
    "        IPython.display.display(IPython.display.Audio(x, rate=sampling_rate))\n",
    "        show_melspectrogram(mels)\n",
    "    return mels\n",
    "\n",
    "def convert_wav_to_image(df, source):\n",
    "    X = []\n",
    "    for i, row in tqdm_notebook(df.iterrows()):\n",
    "        try:\n",
    "            x = read_as_melspectrogram(f'{source[0]}/{str(row.fname)}', trim_long_data=True)\n",
    "        except:\n",
    "            x = read_as_melspectrogram(f'{source[1]}/{str(row.fname)}', trim_long_data=True)\n",
    "\n",
    "        #x_color = mono_to_color(x)\n",
    "        X.append(x.transpose())\n",
    "        #df.loc[i, 'length'] = x.shape[1]\n",
    "    return X"
   ]
  },
  {
   "cell_type": "code",
   "execution_count": 28,
   "metadata": {},
   "outputs": [
    {
     "data": {
      "text/plain": [
       "(6000, 82)"
      ]
     },
     "execution_count": 28,
     "metadata": {},
     "output_type": "execute_result"
    }
   ],
   "source": [
    "train = pd.concat([train_cur[:4000],train_nos[:2000]])\n",
    "train_curated_path = './data/train_curated/'\n",
    "train_noisy_path = './data/train_noisy/'\n",
    "test_path = './data/test/'\n",
    "train.shape"
   ]
  },
  {
   "cell_type": "code",
   "execution_count": 29,
   "metadata": {},
   "outputs": [
    {
     "data": {
      "application/vnd.jupyter.widget-view+json": {
       "model_id": "c5d927dd20f24cb8b01b6ec96b4b8907",
       "version_major": 2,
       "version_minor": 0
      },
      "text/plain": [
       "HBox(children=(IntProgress(value=1, bar_style='info', max=1), HTML(value='')))"
      ]
     },
     "metadata": {},
     "output_type": "display_data"
    },
    {
     "name": "stdout",
     "output_type": "stream",
     "text": [
      "\n",
      "CPU times: user 19min 8s, sys: 11min 34s, total: 30min 42s\n",
      "Wall time: 7min 31s\n"
     ]
    }
   ],
   "source": [
    "%%time\n",
    "#X = np.array(convert_wav_to_image(train_cur,source=[train_curated_path]))\n",
    "#X = np.array(convert_wav_to_image(train_nos, source=[train_noisy_path]))\n",
    "X = np.array(convert_wav_to_image(train, source=[train_curated_path, train_noisy_path]))"
   ]
  },
  {
   "cell_type": "code",
   "execution_count": 30,
   "metadata": {},
   "outputs": [],
   "source": [
    "Y = train[label_columns].values"
   ]
  },
  {
   "cell_type": "code",
   "execution_count": 31,
   "metadata": {},
   "outputs": [],
   "source": [
    "#\n",
    "class Attention(Layer):\n",
    "    def __init__(self, step_dim,\n",
    "                 W_regularizer=None, b_regularizer=None,\n",
    "                 W_constraint=None, b_constraint=None,\n",
    "                 bias=True, **kwargs):\n",
    "        self.supports_masking = True\n",
    "        self.init = initializers.get('glorot_uniform')\n",
    "        self.W_regularizer = regularizers.get(W_regularizer)\n",
    "        self.b_regularizer = regularizers.get(b_regularizer)\n",
    "        self.W_constraint = constraints.get(W_constraint)\n",
    "        self.b_constraint = constraints.get(b_constraint)\n",
    "        self.bias = bias\n",
    "        self.step_dim = step_dim\n",
    "        self.features_dim = 0\n",
    "        super(Attention, self).__init__(**kwargs)\n",
    "\n",
    "    def build(self, input_shape):\n",
    "        assert len(input_shape) == 3\n",
    "\n",
    "        self.W = self.add_weight((input_shape[-1],),\n",
    "                                 initializer=self.init,\n",
    "                                 name='{}_W'.format(self.name),\n",
    "                                 regularizer=self.W_regularizer,\n",
    "                                 constraint=self.W_constraint)\n",
    "        self.features_dim = input_shape[-1]\n",
    "\n",
    "        if self.bias:\n",
    "            self.b = self.add_weight((input_shape[1],),\n",
    "                                     initializer='zero',\n",
    "                                     name='{}_b'.format(self.name),\n",
    "                                     regularizer=self.b_regularizer,\n",
    "                                     constraint=self.b_constraint)\n",
    "        else:\n",
    "            self.b = None\n",
    "        self.built = True\n",
    "\n",
    "    def compute_mask(self, input, input_mask=None):\n",
    "        return None\n",
    "\n",
    "    def call(self, x, mask=None):\n",
    "        features_dim = self.features_dim\n",
    "        step_dim = self.step_dim\n",
    "\n",
    "        eij = K.reshape(K.dot(K.reshape(x, (-1, features_dim)),\n",
    "                        K.reshape(self.W, (features_dim, 1))), (-1, step_dim))\n",
    "        if self.bias:\n",
    "            eij += self.b\n",
    "        eij = K.tanh(eij)\n",
    "        a = K.exp(eij)\n",
    "        if mask is not None:\n",
    "            a *= K.cast(mask, K.floatx())\n",
    "        a /= K.cast(K.sum(a, axis=1, keepdims=True) + K.epsilon(), K.floatx())\n",
    "        a = K.expand_dims(a)\n",
    "        weighted_input = x * a\n",
    "        return K.sum(weighted_input, axis=1)\n",
    "\n",
    "    def compute_output_shape(self, input_shape):\n",
    "        return input_shape[0],  self.features_dim"
   ]
  },
  {
   "cell_type": "code",
   "execution_count": null,
   "metadata": {},
   "outputs": [],
   "source": []
  },
  {
   "cell_type": "code",
   "execution_count": 32,
   "metadata": {},
   "outputs": [
    {
     "name": "stdout",
     "output_type": "stream",
     "text": [
      "WARNING:tensorflow:From /data/anaconda/envs/py36/lib/python3.6/site-packages/keras/backend/tensorflow_backend.py:3138: calling dropout (from tensorflow.python.ops.nn_ops) with keep_prob is deprecated and will be removed in a future version.\n",
      "Instructions for updating:\n",
      "Please use `rate` instead of `keep_prob`. Rate should be set to `rate = 1 - keep_prob`.\n",
      "_________________________________________________________________\n",
      "Layer (type)                 Output Shape              Param #   \n",
      "=================================================================\n",
      "bidirectional_1 (Bidirection (None, 890, 256)          264192    \n",
      "_________________________________________________________________\n",
      "bidirectional_2 (Bidirection (None, 890, 256)          395264    \n",
      "_________________________________________________________________\n",
      "bidirectional_3 (Bidirection (None, 890, 256)          395264    \n",
      "_________________________________________________________________\n",
      "attention_1 (Attention)      (None, 256)               1146      \n",
      "_________________________________________________________________\n",
      "dropout_1 (Dropout)          (None, 256)               0         \n",
      "_________________________________________________________________\n",
      "dense_1 (Dense)              (None, 256)               65792     \n",
      "_________________________________________________________________\n",
      "dropout_2 (Dropout)          (None, 256)               0         \n",
      "_________________________________________________________________\n",
      "dense_2 (Dense)              (None, 128)               32896     \n",
      "_________________________________________________________________\n",
      "dropout_3 (Dropout)          (None, 128)               0         \n",
      "_________________________________________________________________\n",
      "dense_3 (Dense)              (None, 80)                10320     \n",
      "=================================================================\n",
      "Total params: 1,164,874\n",
      "Trainable params: 1,164,874\n",
      "Non-trainable params: 0\n",
      "_________________________________________________________________\n"
     ]
    }
   ],
   "source": [
    "model = Sequential()\n",
    "model.add(Bidirectional(CuDNNLSTM(128,return_sequences=True),input_shape=input_shape))\n",
    "model.add(Bidirectional(CuDNNLSTM(128,return_sequences=True),input_shape=input_shape))\n",
    "model.add(Bidirectional(CuDNNLSTM(128,return_sequences=True),input_shape=input_shape))\n",
    "model.add(Attention(input_shape[0]))\n",
    "model.add(Dropout(0.2))\n",
    "model.add(Dense(256,activation='relu'))\n",
    "model.add(Dropout(0.2))\n",
    "model.add(Dense(128,activation='relu'))\n",
    "model.add(Dropout(0.2))\n",
    "model.add(Dense(n_classes,activation='softmax'))\n",
    "model.compile(loss='categorical_crossentropy',optimizer=opt,metrics=['acc'])\n",
    "model.summary()"
   ]
  },
  {
   "cell_type": "code",
   "execution_count": 33,
   "metadata": {},
   "outputs": [
    {
     "name": "stdout",
     "output_type": "stream",
     "text": [
      "WARNING:tensorflow:From /data/anaconda/envs/py36/lib/python3.6/site-packages/tensorflow/python/ops/math_ops.py:3066: to_int32 (from tensorflow.python.ops.math_ops) is deprecated and will be removed in a future version.\n",
      "Instructions for updating:\n",
      "Use tf.cast instead.\n",
      "Train on 5400 samples, validate on 600 samples\n",
      "Epoch 1/500\n"
     ]
    },
    {
     "ename": "InvalidArgumentError",
     "evalue": "No OpKernel was registered to support Op 'CudnnRNN' used by node bidirectional_1/CudnnRNN (defined at /data/anaconda/envs/py36/lib/python3.6/site-packages/keras/layers/cudnn_recurrent.py:510) with these attrs: [dropout=0, seed=87654321, T=DT_FLOAT, input_mode=\"linear_input\", direction=\"unidirectional\", rnn_mode=\"lstm\", is_training=true, seed2=0]\nRegistered devices: [CPU, XLA_CPU]\nRegistered kernels:\n  <no registered kernels>\n\n\t [[node bidirectional_1/CudnnRNN (defined at /data/anaconda/envs/py36/lib/python3.6/site-packages/keras/layers/cudnn_recurrent.py:510) ]]\n\nCaused by op 'bidirectional_1/CudnnRNN', defined at:\n  File \"/data/anaconda/envs/py36/lib/python3.6/runpy.py\", line 193, in _run_module_as_main\n    \"__main__\", mod_spec)\n  File \"/data/anaconda/envs/py36/lib/python3.6/runpy.py\", line 85, in _run_code\n    exec(code, run_globals)\n  File \"/data/anaconda/envs/py36/lib/python3.6/site-packages/ipykernel_launcher.py\", line 16, in <module>\n    app.launch_new_instance()\n  File \"/data/anaconda/envs/py36/lib/python3.6/site-packages/traitlets/config/application.py\", line 658, in launch_instance\n    app.start()\n  File \"/data/anaconda/envs/py36/lib/python3.6/site-packages/ipykernel/kernelapp.py\", line 505, in start\n    self.io_loop.start()\n  File \"/data/anaconda/envs/py36/lib/python3.6/site-packages/tornado/platform/asyncio.py\", line 132, in start\n    self.asyncio_loop.run_forever()\n  File \"/data/anaconda/envs/py36/lib/python3.6/asyncio/base_events.py\", line 427, in run_forever\n    self._run_once()\n  File \"/data/anaconda/envs/py36/lib/python3.6/asyncio/base_events.py\", line 1440, in _run_once\n    handle._run()\n  File \"/data/anaconda/envs/py36/lib/python3.6/asyncio/events.py\", line 145, in _run\n    self._callback(*self._args)\n  File \"/data/anaconda/envs/py36/lib/python3.6/site-packages/tornado/ioloop.py\", line 758, in _run_callback\n    ret = callback()\n  File \"/data/anaconda/envs/py36/lib/python3.6/site-packages/tornado/stack_context.py\", line 300, in null_wrapper\n    return fn(*args, **kwargs)\n  File \"/data/anaconda/envs/py36/lib/python3.6/site-packages/tornado/gen.py\", line 1233, in inner\n    self.run()\n  File \"/data/anaconda/envs/py36/lib/python3.6/site-packages/tornado/gen.py\", line 1147, in run\n    yielded = self.gen.send(value)\n  File \"/data/anaconda/envs/py36/lib/python3.6/site-packages/ipykernel/kernelbase.py\", line 357, in process_one\n    yield gen.maybe_future(dispatch(*args))\n  File \"/data/anaconda/envs/py36/lib/python3.6/site-packages/tornado/gen.py\", line 326, in wrapper\n    yielded = next(result)\n  File \"/data/anaconda/envs/py36/lib/python3.6/site-packages/ipykernel/kernelbase.py\", line 267, in dispatch_shell\n    yield gen.maybe_future(handler(stream, idents, msg))\n  File \"/data/anaconda/envs/py36/lib/python3.6/site-packages/tornado/gen.py\", line 326, in wrapper\n    yielded = next(result)\n  File \"/data/anaconda/envs/py36/lib/python3.6/site-packages/ipykernel/kernelbase.py\", line 534, in execute_request\n    user_expressions, allow_stdin,\n  File \"/data/anaconda/envs/py36/lib/python3.6/site-packages/tornado/gen.py\", line 326, in wrapper\n    yielded = next(result)\n  File \"/data/anaconda/envs/py36/lib/python3.6/site-packages/ipykernel/ipkernel.py\", line 294, in do_execute\n    res = shell.run_cell(code, store_history=store_history, silent=silent)\n  File \"/data/anaconda/envs/py36/lib/python3.6/site-packages/ipykernel/zmqshell.py\", line 536, in run_cell\n    return super(ZMQInteractiveShell, self).run_cell(*args, **kwargs)\n  File \"/data/anaconda/envs/py36/lib/python3.6/site-packages/IPython/core/interactiveshell.py\", line 2819, in run_cell\n    raw_cell, store_history, silent, shell_futures)\n  File \"/data/anaconda/envs/py36/lib/python3.6/site-packages/IPython/core/interactiveshell.py\", line 2845, in _run_cell\n    return runner(coro)\n  File \"/data/anaconda/envs/py36/lib/python3.6/site-packages/IPython/core/async_helpers.py\", line 67, in _pseudo_sync_runner\n    coro.send(None)\n  File \"/data/anaconda/envs/py36/lib/python3.6/site-packages/IPython/core/interactiveshell.py\", line 3020, in run_cell_async\n    interactivity=interactivity, compiler=compiler, result=result)\n  File \"/data/anaconda/envs/py36/lib/python3.6/site-packages/IPython/core/interactiveshell.py\", line 3185, in run_ast_nodes\n    if (yield from self.run_code(code, result)):\n  File \"/data/anaconda/envs/py36/lib/python3.6/site-packages/IPython/core/interactiveshell.py\", line 3267, in run_code\n    exec(code_obj, self.user_global_ns, self.user_ns)\n  File \"<ipython-input-32-881c12f0f0aa>\", line 2, in <module>\n    model.add(Bidirectional(CuDNNLSTM(128,return_sequences=True),input_shape=input_shape))\n  File \"/data/anaconda/envs/py36/lib/python3.6/site-packages/keras/models.py\", line 467, in add\n    layer(x)\n  File \"/data/anaconda/envs/py36/lib/python3.6/site-packages/keras/layers/wrappers.py\", line 324, in __call__\n    return super(Bidirectional, self).__call__(inputs, **kwargs)\n  File \"/data/anaconda/envs/py36/lib/python3.6/site-packages/keras/engine/topology.py\", line 619, in __call__\n    output = self.call(inputs, **kwargs)\n  File \"/data/anaconda/envs/py36/lib/python3.6/site-packages/keras/layers/wrappers.py\", line 384, in call\n    y = self.forward_layer.call(inputs, **kwargs)\n  File \"/data/anaconda/envs/py36/lib/python3.6/site-packages/keras/layers/cudnn_recurrent.py\", line 90, in call\n    output, states = self._process_batch(inputs, initial_state)\n  File \"/data/anaconda/envs/py36/lib/python3.6/site-packages/keras/layers/cudnn_recurrent.py\", line 510, in _process_batch\n    is_training=True)\n  File \"/data/anaconda/envs/py36/lib/python3.6/site-packages/tensorflow/contrib/cudnn_rnn/python/ops/cudnn_rnn_ops.py\", line 1636, in __call__\n    input_data, input_h, input_c, params, is_training=is_training)\n  File \"/data/anaconda/envs/py36/lib/python3.6/site-packages/tensorflow/contrib/cudnn_rnn/python/ops/cudnn_rnn_ops.py\", line 1527, in __call__\n    seed=self._seed)\n  File \"/data/anaconda/envs/py36/lib/python3.6/site-packages/tensorflow/contrib/cudnn_rnn/python/ops/cudnn_rnn_ops.py\", line 1014, in _cudnn_rnn\n    outputs, output_h, output_c, _ = gen_cudnn_rnn_ops.cudnn_rnn(**args)\n  File \"/data/anaconda/envs/py36/lib/python3.6/site-packages/tensorflow/python/ops/gen_cudnn_rnn_ops.py\", line 142, in cudnn_rnn\n    seed2=seed2, is_training=is_training, name=name)\n  File \"/data/anaconda/envs/py36/lib/python3.6/site-packages/tensorflow/python/framework/op_def_library.py\", line 788, in _apply_op_helper\n    op_def=op_def)\n  File \"/data/anaconda/envs/py36/lib/python3.6/site-packages/tensorflow/python/util/deprecation.py\", line 507, in new_func\n    return func(*args, **kwargs)\n  File \"/data/anaconda/envs/py36/lib/python3.6/site-packages/tensorflow/python/framework/ops.py\", line 3300, in create_op\n    op_def=op_def)\n  File \"/data/anaconda/envs/py36/lib/python3.6/site-packages/tensorflow/python/framework/ops.py\", line 1801, in __init__\n    self._traceback = tf_stack.extract_stack()\n\nInvalidArgumentError (see above for traceback): No OpKernel was registered to support Op 'CudnnRNN' used by node bidirectional_1/CudnnRNN (defined at /data/anaconda/envs/py36/lib/python3.6/site-packages/keras/layers/cudnn_recurrent.py:510) with these attrs: [dropout=0, seed=87654321, T=DT_FLOAT, input_mode=\"linear_input\", direction=\"unidirectional\", rnn_mode=\"lstm\", is_training=true, seed2=0]\nRegistered devices: [CPU, XLA_CPU]\nRegistered kernels:\n  <no registered kernels>\n\n\t [[node bidirectional_1/CudnnRNN (defined at /data/anaconda/envs/py36/lib/python3.6/site-packages/keras/layers/cudnn_recurrent.py:510) ]]\n",
     "output_type": "error",
     "traceback": [
      "\u001b[0;31m---------------------------------------------------------------------------\u001b[0m",
      "\u001b[0;31mInvalidArgumentError\u001b[0m                      Traceback (most recent call last)",
      "\u001b[0;32m/data/anaconda/envs/py36/lib/python3.6/site-packages/tensorflow/python/client/session.py\u001b[0m in \u001b[0;36m_do_call\u001b[0;34m(self, fn, *args)\u001b[0m\n\u001b[1;32m   1333\u001b[0m     \u001b[0;32mtry\u001b[0m\u001b[0;34m:\u001b[0m\u001b[0;34m\u001b[0m\u001b[0;34m\u001b[0m\u001b[0m\n\u001b[0;32m-> 1334\u001b[0;31m       \u001b[0;32mreturn\u001b[0m \u001b[0mfn\u001b[0m\u001b[0;34m(\u001b[0m\u001b[0;34m*\u001b[0m\u001b[0margs\u001b[0m\u001b[0;34m)\u001b[0m\u001b[0;34m\u001b[0m\u001b[0;34m\u001b[0m\u001b[0m\n\u001b[0m\u001b[1;32m   1335\u001b[0m     \u001b[0;32mexcept\u001b[0m \u001b[0merrors\u001b[0m\u001b[0;34m.\u001b[0m\u001b[0mOpError\u001b[0m \u001b[0;32mas\u001b[0m \u001b[0me\u001b[0m\u001b[0;34m:\u001b[0m\u001b[0;34m\u001b[0m\u001b[0;34m\u001b[0m\u001b[0m\n",
      "\u001b[0;32m/data/anaconda/envs/py36/lib/python3.6/site-packages/tensorflow/python/client/session.py\u001b[0m in \u001b[0;36m_run_fn\u001b[0;34m(feed_dict, fetch_list, target_list, options, run_metadata)\u001b[0m\n\u001b[1;32m   1316\u001b[0m       \u001b[0;31m# Ensure any changes to the graph are reflected in the runtime.\u001b[0m\u001b[0;34m\u001b[0m\u001b[0;34m\u001b[0m\u001b[0;34m\u001b[0m\u001b[0m\n\u001b[0;32m-> 1317\u001b[0;31m       \u001b[0mself\u001b[0m\u001b[0;34m.\u001b[0m\u001b[0m_extend_graph\u001b[0m\u001b[0;34m(\u001b[0m\u001b[0;34m)\u001b[0m\u001b[0;34m\u001b[0m\u001b[0;34m\u001b[0m\u001b[0m\n\u001b[0m\u001b[1;32m   1318\u001b[0m       return self._call_tf_sessionrun(\n",
      "\u001b[0;32m/data/anaconda/envs/py36/lib/python3.6/site-packages/tensorflow/python/client/session.py\u001b[0m in \u001b[0;36m_extend_graph\u001b[0;34m(self)\u001b[0m\n\u001b[1;32m   1351\u001b[0m     \u001b[0;32mwith\u001b[0m \u001b[0mself\u001b[0m\u001b[0;34m.\u001b[0m\u001b[0m_graph\u001b[0m\u001b[0;34m.\u001b[0m\u001b[0m_session_run_lock\u001b[0m\u001b[0;34m(\u001b[0m\u001b[0;34m)\u001b[0m\u001b[0;34m:\u001b[0m  \u001b[0;31m# pylint: disable=protected-access\u001b[0m\u001b[0;34m\u001b[0m\u001b[0;34m\u001b[0m\u001b[0m\n\u001b[0;32m-> 1352\u001b[0;31m       \u001b[0mtf_session\u001b[0m\u001b[0;34m.\u001b[0m\u001b[0mExtendSession\u001b[0m\u001b[0;34m(\u001b[0m\u001b[0mself\u001b[0m\u001b[0;34m.\u001b[0m\u001b[0m_session\u001b[0m\u001b[0;34m)\u001b[0m\u001b[0;34m\u001b[0m\u001b[0;34m\u001b[0m\u001b[0m\n\u001b[0m\u001b[1;32m   1353\u001b[0m \u001b[0;34m\u001b[0m\u001b[0m\n",
      "\u001b[0;31mInvalidArgumentError\u001b[0m: No OpKernel was registered to support Op 'CudnnRNN' used by {{node bidirectional_1/CudnnRNN}}with these attrs: [dropout=0, seed=87654321, T=DT_FLOAT, input_mode=\"linear_input\", direction=\"unidirectional\", rnn_mode=\"lstm\", is_training=true, seed2=0]\nRegistered devices: [CPU, XLA_CPU]\nRegistered kernels:\n  <no registered kernels>\n\n\t [[{{node bidirectional_1/CudnnRNN}}]]",
      "\nDuring handling of the above exception, another exception occurred:\n",
      "\u001b[0;31mInvalidArgumentError\u001b[0m                      Traceback (most recent call last)",
      "\u001b[0;32m<ipython-input-33-6571c712cb27>\u001b[0m in \u001b[0;36m<module>\u001b[0;34m\u001b[0m\n\u001b[1;32m      6\u001b[0m           \u001b[0mepochs\u001b[0m\u001b[0;34m=\u001b[0m\u001b[0;36m500\u001b[0m\u001b[0;34m,\u001b[0m\u001b[0;34m\u001b[0m\u001b[0;34m\u001b[0m\u001b[0m\n\u001b[1;32m      7\u001b[0m           \u001b[0mvalidation_data\u001b[0m\u001b[0;34m=\u001b[0m\u001b[0;34m(\u001b[0m\u001b[0mnp\u001b[0m\u001b[0;34m.\u001b[0m\u001b[0marray\u001b[0m\u001b[0;34m(\u001b[0m\u001b[0mx_val\u001b[0m\u001b[0;34m)\u001b[0m\u001b[0;34m,\u001b[0m \u001b[0my_val\u001b[0m\u001b[0;34m)\u001b[0m\u001b[0;34m,\u001b[0m\u001b[0;34m\u001b[0m\u001b[0;34m\u001b[0m\u001b[0m\n\u001b[0;32m----> 8\u001b[0;31m           \u001b[0mcallbacks\u001b[0m \u001b[0;34m=\u001b[0m \u001b[0;34m[\u001b[0m\u001b[0mes\u001b[0m\u001b[0;34m]\u001b[0m\u001b[0;34m\u001b[0m\u001b[0;34m\u001b[0m\u001b[0m\n\u001b[0m\u001b[1;32m      9\u001b[0m                    )\n",
      "\u001b[0;32m/data/anaconda/envs/py36/lib/python3.6/site-packages/keras/models.py\u001b[0m in \u001b[0;36mfit\u001b[0;34m(self, x, y, batch_size, epochs, verbose, callbacks, validation_split, validation_data, shuffle, class_weight, sample_weight, initial_epoch, steps_per_epoch, validation_steps, **kwargs)\u001b[0m\n\u001b[1;32m    961\u001b[0m                               \u001b[0minitial_epoch\u001b[0m\u001b[0;34m=\u001b[0m\u001b[0minitial_epoch\u001b[0m\u001b[0;34m,\u001b[0m\u001b[0;34m\u001b[0m\u001b[0;34m\u001b[0m\u001b[0m\n\u001b[1;32m    962\u001b[0m                               \u001b[0msteps_per_epoch\u001b[0m\u001b[0;34m=\u001b[0m\u001b[0msteps_per_epoch\u001b[0m\u001b[0;34m,\u001b[0m\u001b[0;34m\u001b[0m\u001b[0;34m\u001b[0m\u001b[0m\n\u001b[0;32m--> 963\u001b[0;31m                               validation_steps=validation_steps)\n\u001b[0m\u001b[1;32m    964\u001b[0m \u001b[0;34m\u001b[0m\u001b[0m\n\u001b[1;32m    965\u001b[0m     def evaluate(self, x=None, y=None,\n",
      "\u001b[0;32m/data/anaconda/envs/py36/lib/python3.6/site-packages/keras/engine/training.py\u001b[0m in \u001b[0;36mfit\u001b[0;34m(self, x, y, batch_size, epochs, verbose, callbacks, validation_split, validation_data, shuffle, class_weight, sample_weight, initial_epoch, steps_per_epoch, validation_steps, **kwargs)\u001b[0m\n\u001b[1;32m   1703\u001b[0m                               \u001b[0minitial_epoch\u001b[0m\u001b[0;34m=\u001b[0m\u001b[0minitial_epoch\u001b[0m\u001b[0;34m,\u001b[0m\u001b[0;34m\u001b[0m\u001b[0;34m\u001b[0m\u001b[0m\n\u001b[1;32m   1704\u001b[0m                               \u001b[0msteps_per_epoch\u001b[0m\u001b[0;34m=\u001b[0m\u001b[0msteps_per_epoch\u001b[0m\u001b[0;34m,\u001b[0m\u001b[0;34m\u001b[0m\u001b[0;34m\u001b[0m\u001b[0m\n\u001b[0;32m-> 1705\u001b[0;31m                               validation_steps=validation_steps)\n\u001b[0m\u001b[1;32m   1706\u001b[0m \u001b[0;34m\u001b[0m\u001b[0m\n\u001b[1;32m   1707\u001b[0m     def evaluate(self, x=None, y=None,\n",
      "\u001b[0;32m/data/anaconda/envs/py36/lib/python3.6/site-packages/keras/engine/training.py\u001b[0m in \u001b[0;36m_fit_loop\u001b[0;34m(self, f, ins, out_labels, batch_size, epochs, verbose, callbacks, val_f, val_ins, shuffle, callback_metrics, initial_epoch, steps_per_epoch, validation_steps)\u001b[0m\n\u001b[1;32m   1233\u001b[0m                         \u001b[0mins_batch\u001b[0m\u001b[0;34m[\u001b[0m\u001b[0mi\u001b[0m\u001b[0;34m]\u001b[0m \u001b[0;34m=\u001b[0m \u001b[0mins_batch\u001b[0m\u001b[0;34m[\u001b[0m\u001b[0mi\u001b[0m\u001b[0;34m]\u001b[0m\u001b[0;34m.\u001b[0m\u001b[0mtoarray\u001b[0m\u001b[0;34m(\u001b[0m\u001b[0;34m)\u001b[0m\u001b[0;34m\u001b[0m\u001b[0;34m\u001b[0m\u001b[0m\n\u001b[1;32m   1234\u001b[0m \u001b[0;34m\u001b[0m\u001b[0m\n\u001b[0;32m-> 1235\u001b[0;31m                     \u001b[0mouts\u001b[0m \u001b[0;34m=\u001b[0m \u001b[0mf\u001b[0m\u001b[0;34m(\u001b[0m\u001b[0mins_batch\u001b[0m\u001b[0;34m)\u001b[0m\u001b[0;34m\u001b[0m\u001b[0;34m\u001b[0m\u001b[0m\n\u001b[0m\u001b[1;32m   1236\u001b[0m                     \u001b[0;32mif\u001b[0m \u001b[0;32mnot\u001b[0m \u001b[0misinstance\u001b[0m\u001b[0;34m(\u001b[0m\u001b[0mouts\u001b[0m\u001b[0;34m,\u001b[0m \u001b[0mlist\u001b[0m\u001b[0;34m)\u001b[0m\u001b[0;34m:\u001b[0m\u001b[0;34m\u001b[0m\u001b[0;34m\u001b[0m\u001b[0m\n\u001b[1;32m   1237\u001b[0m                         \u001b[0mouts\u001b[0m \u001b[0;34m=\u001b[0m \u001b[0;34m[\u001b[0m\u001b[0mouts\u001b[0m\u001b[0;34m]\u001b[0m\u001b[0;34m\u001b[0m\u001b[0;34m\u001b[0m\u001b[0m\n",
      "\u001b[0;32m/data/anaconda/envs/py36/lib/python3.6/site-packages/keras/backend/tensorflow_backend.py\u001b[0m in \u001b[0;36m__call__\u001b[0;34m(self, inputs)\u001b[0m\n\u001b[1;32m   2474\u001b[0m             \u001b[0mfeed_dict\u001b[0m\u001b[0;34m[\u001b[0m\u001b[0mtensor\u001b[0m\u001b[0;34m]\u001b[0m \u001b[0;34m=\u001b[0m \u001b[0mvalue\u001b[0m\u001b[0;34m\u001b[0m\u001b[0;34m\u001b[0m\u001b[0m\n\u001b[1;32m   2475\u001b[0m         \u001b[0mfetches\u001b[0m \u001b[0;34m=\u001b[0m \u001b[0mself\u001b[0m\u001b[0;34m.\u001b[0m\u001b[0moutputs\u001b[0m \u001b[0;34m+\u001b[0m \u001b[0;34m[\u001b[0m\u001b[0mself\u001b[0m\u001b[0;34m.\u001b[0m\u001b[0mupdates_op\u001b[0m\u001b[0;34m]\u001b[0m \u001b[0;34m+\u001b[0m \u001b[0mself\u001b[0m\u001b[0;34m.\u001b[0m\u001b[0mfetches\u001b[0m\u001b[0;34m\u001b[0m\u001b[0;34m\u001b[0m\u001b[0m\n\u001b[0;32m-> 2476\u001b[0;31m         \u001b[0msession\u001b[0m \u001b[0;34m=\u001b[0m \u001b[0mget_session\u001b[0m\u001b[0;34m(\u001b[0m\u001b[0;34m)\u001b[0m\u001b[0;34m\u001b[0m\u001b[0;34m\u001b[0m\u001b[0m\n\u001b[0m\u001b[1;32m   2477\u001b[0m         updated = session.run(fetches=fetches, feed_dict=feed_dict,\n\u001b[1;32m   2478\u001b[0m                               **self.session_kwargs)\n",
      "\u001b[0;32m/data/anaconda/envs/py36/lib/python3.6/site-packages/keras/backend/tensorflow_backend.py\u001b[0m in \u001b[0;36mget_session\u001b[0;34m()\u001b[0m\n\u001b[1;32m    190\u001b[0m                 \u001b[0;31m# not already marked as initialized.\u001b[0m\u001b[0;34m\u001b[0m\u001b[0;34m\u001b[0m\u001b[0;34m\u001b[0m\u001b[0m\n\u001b[1;32m    191\u001b[0m                 is_initialized = session.run(\n\u001b[0;32m--> 192\u001b[0;31m                     [tf.is_variable_initialized(v) for v in candidate_vars])\n\u001b[0m\u001b[1;32m    193\u001b[0m                 \u001b[0muninitialized_vars\u001b[0m \u001b[0;34m=\u001b[0m \u001b[0;34m[\u001b[0m\u001b[0;34m]\u001b[0m\u001b[0;34m\u001b[0m\u001b[0;34m\u001b[0m\u001b[0m\n\u001b[1;32m    194\u001b[0m                 \u001b[0;32mfor\u001b[0m \u001b[0mflag\u001b[0m\u001b[0;34m,\u001b[0m \u001b[0mv\u001b[0m \u001b[0;32min\u001b[0m \u001b[0mzip\u001b[0m\u001b[0;34m(\u001b[0m\u001b[0mis_initialized\u001b[0m\u001b[0;34m,\u001b[0m \u001b[0mcandidate_vars\u001b[0m\u001b[0;34m)\u001b[0m\u001b[0;34m:\u001b[0m\u001b[0;34m\u001b[0m\u001b[0;34m\u001b[0m\u001b[0m\n",
      "\u001b[0;32m/data/anaconda/envs/py36/lib/python3.6/site-packages/tensorflow/python/client/session.py\u001b[0m in \u001b[0;36mrun\u001b[0;34m(self, fetches, feed_dict, options, run_metadata)\u001b[0m\n\u001b[1;32m    927\u001b[0m     \u001b[0;32mtry\u001b[0m\u001b[0;34m:\u001b[0m\u001b[0;34m\u001b[0m\u001b[0;34m\u001b[0m\u001b[0m\n\u001b[1;32m    928\u001b[0m       result = self._run(None, fetches, feed_dict, options_ptr,\n\u001b[0;32m--> 929\u001b[0;31m                          run_metadata_ptr)\n\u001b[0m\u001b[1;32m    930\u001b[0m       \u001b[0;32mif\u001b[0m \u001b[0mrun_metadata\u001b[0m\u001b[0;34m:\u001b[0m\u001b[0;34m\u001b[0m\u001b[0;34m\u001b[0m\u001b[0m\n\u001b[1;32m    931\u001b[0m         \u001b[0mproto_data\u001b[0m \u001b[0;34m=\u001b[0m \u001b[0mtf_session\u001b[0m\u001b[0;34m.\u001b[0m\u001b[0mTF_GetBuffer\u001b[0m\u001b[0;34m(\u001b[0m\u001b[0mrun_metadata_ptr\u001b[0m\u001b[0;34m)\u001b[0m\u001b[0;34m\u001b[0m\u001b[0;34m\u001b[0m\u001b[0m\n",
      "\u001b[0;32m/data/anaconda/envs/py36/lib/python3.6/site-packages/tensorflow/python/client/session.py\u001b[0m in \u001b[0;36m_run\u001b[0;34m(self, handle, fetches, feed_dict, options, run_metadata)\u001b[0m\n\u001b[1;32m   1150\u001b[0m     \u001b[0;32mif\u001b[0m \u001b[0mfinal_fetches\u001b[0m \u001b[0;32mor\u001b[0m \u001b[0mfinal_targets\u001b[0m \u001b[0;32mor\u001b[0m \u001b[0;34m(\u001b[0m\u001b[0mhandle\u001b[0m \u001b[0;32mand\u001b[0m \u001b[0mfeed_dict_tensor\u001b[0m\u001b[0;34m)\u001b[0m\u001b[0;34m:\u001b[0m\u001b[0;34m\u001b[0m\u001b[0;34m\u001b[0m\u001b[0m\n\u001b[1;32m   1151\u001b[0m       results = self._do_run(handle, final_targets, final_fetches,\n\u001b[0;32m-> 1152\u001b[0;31m                              feed_dict_tensor, options, run_metadata)\n\u001b[0m\u001b[1;32m   1153\u001b[0m     \u001b[0;32melse\u001b[0m\u001b[0;34m:\u001b[0m\u001b[0;34m\u001b[0m\u001b[0;34m\u001b[0m\u001b[0m\n\u001b[1;32m   1154\u001b[0m       \u001b[0mresults\u001b[0m \u001b[0;34m=\u001b[0m \u001b[0;34m[\u001b[0m\u001b[0;34m]\u001b[0m\u001b[0;34m\u001b[0m\u001b[0;34m\u001b[0m\u001b[0m\n",
      "\u001b[0;32m/data/anaconda/envs/py36/lib/python3.6/site-packages/tensorflow/python/client/session.py\u001b[0m in \u001b[0;36m_do_run\u001b[0;34m(self, handle, target_list, fetch_list, feed_dict, options, run_metadata)\u001b[0m\n\u001b[1;32m   1326\u001b[0m     \u001b[0;32mif\u001b[0m \u001b[0mhandle\u001b[0m \u001b[0;32mis\u001b[0m \u001b[0;32mNone\u001b[0m\u001b[0;34m:\u001b[0m\u001b[0;34m\u001b[0m\u001b[0;34m\u001b[0m\u001b[0m\n\u001b[1;32m   1327\u001b[0m       return self._do_call(_run_fn, feeds, fetches, targets, options,\n\u001b[0;32m-> 1328\u001b[0;31m                            run_metadata)\n\u001b[0m\u001b[1;32m   1329\u001b[0m     \u001b[0;32melse\u001b[0m\u001b[0;34m:\u001b[0m\u001b[0;34m\u001b[0m\u001b[0;34m\u001b[0m\u001b[0m\n\u001b[1;32m   1330\u001b[0m       \u001b[0;32mreturn\u001b[0m \u001b[0mself\u001b[0m\u001b[0;34m.\u001b[0m\u001b[0m_do_call\u001b[0m\u001b[0;34m(\u001b[0m\u001b[0m_prun_fn\u001b[0m\u001b[0;34m,\u001b[0m \u001b[0mhandle\u001b[0m\u001b[0;34m,\u001b[0m \u001b[0mfeeds\u001b[0m\u001b[0;34m,\u001b[0m \u001b[0mfetches\u001b[0m\u001b[0;34m)\u001b[0m\u001b[0;34m\u001b[0m\u001b[0;34m\u001b[0m\u001b[0m\n",
      "\u001b[0;32m/data/anaconda/envs/py36/lib/python3.6/site-packages/tensorflow/python/client/session.py\u001b[0m in \u001b[0;36m_do_call\u001b[0;34m(self, fn, *args)\u001b[0m\n\u001b[1;32m   1346\u001b[0m           \u001b[0;32mpass\u001b[0m\u001b[0;34m\u001b[0m\u001b[0;34m\u001b[0m\u001b[0m\n\u001b[1;32m   1347\u001b[0m       \u001b[0mmessage\u001b[0m \u001b[0;34m=\u001b[0m \u001b[0merror_interpolation\u001b[0m\u001b[0;34m.\u001b[0m\u001b[0minterpolate\u001b[0m\u001b[0;34m(\u001b[0m\u001b[0mmessage\u001b[0m\u001b[0;34m,\u001b[0m \u001b[0mself\u001b[0m\u001b[0;34m.\u001b[0m\u001b[0m_graph\u001b[0m\u001b[0;34m)\u001b[0m\u001b[0;34m\u001b[0m\u001b[0;34m\u001b[0m\u001b[0m\n\u001b[0;32m-> 1348\u001b[0;31m       \u001b[0;32mraise\u001b[0m \u001b[0mtype\u001b[0m\u001b[0;34m(\u001b[0m\u001b[0me\u001b[0m\u001b[0;34m)\u001b[0m\u001b[0;34m(\u001b[0m\u001b[0mnode_def\u001b[0m\u001b[0;34m,\u001b[0m \u001b[0mop\u001b[0m\u001b[0;34m,\u001b[0m \u001b[0mmessage\u001b[0m\u001b[0;34m)\u001b[0m\u001b[0;34m\u001b[0m\u001b[0;34m\u001b[0m\u001b[0m\n\u001b[0m\u001b[1;32m   1349\u001b[0m \u001b[0;34m\u001b[0m\u001b[0m\n\u001b[1;32m   1350\u001b[0m   \u001b[0;32mdef\u001b[0m \u001b[0m_extend_graph\u001b[0m\u001b[0;34m(\u001b[0m\u001b[0mself\u001b[0m\u001b[0;34m)\u001b[0m\u001b[0;34m:\u001b[0m\u001b[0;34m\u001b[0m\u001b[0;34m\u001b[0m\u001b[0m\n",
      "\u001b[0;31mInvalidArgumentError\u001b[0m: No OpKernel was registered to support Op 'CudnnRNN' used by node bidirectional_1/CudnnRNN (defined at /data/anaconda/envs/py36/lib/python3.6/site-packages/keras/layers/cudnn_recurrent.py:510) with these attrs: [dropout=0, seed=87654321, T=DT_FLOAT, input_mode=\"linear_input\", direction=\"unidirectional\", rnn_mode=\"lstm\", is_training=true, seed2=0]\nRegistered devices: [CPU, XLA_CPU]\nRegistered kernels:\n  <no registered kernels>\n\n\t [[node bidirectional_1/CudnnRNN (defined at /data/anaconda/envs/py36/lib/python3.6/site-packages/keras/layers/cudnn_recurrent.py:510) ]]\n\nCaused by op 'bidirectional_1/CudnnRNN', defined at:\n  File \"/data/anaconda/envs/py36/lib/python3.6/runpy.py\", line 193, in _run_module_as_main\n    \"__main__\", mod_spec)\n  File \"/data/anaconda/envs/py36/lib/python3.6/runpy.py\", line 85, in _run_code\n    exec(code, run_globals)\n  File \"/data/anaconda/envs/py36/lib/python3.6/site-packages/ipykernel_launcher.py\", line 16, in <module>\n    app.launch_new_instance()\n  File \"/data/anaconda/envs/py36/lib/python3.6/site-packages/traitlets/config/application.py\", line 658, in launch_instance\n    app.start()\n  File \"/data/anaconda/envs/py36/lib/python3.6/site-packages/ipykernel/kernelapp.py\", line 505, in start\n    self.io_loop.start()\n  File \"/data/anaconda/envs/py36/lib/python3.6/site-packages/tornado/platform/asyncio.py\", line 132, in start\n    self.asyncio_loop.run_forever()\n  File \"/data/anaconda/envs/py36/lib/python3.6/asyncio/base_events.py\", line 427, in run_forever\n    self._run_once()\n  File \"/data/anaconda/envs/py36/lib/python3.6/asyncio/base_events.py\", line 1440, in _run_once\n    handle._run()\n  File \"/data/anaconda/envs/py36/lib/python3.6/asyncio/events.py\", line 145, in _run\n    self._callback(*self._args)\n  File \"/data/anaconda/envs/py36/lib/python3.6/site-packages/tornado/ioloop.py\", line 758, in _run_callback\n    ret = callback()\n  File \"/data/anaconda/envs/py36/lib/python3.6/site-packages/tornado/stack_context.py\", line 300, in null_wrapper\n    return fn(*args, **kwargs)\n  File \"/data/anaconda/envs/py36/lib/python3.6/site-packages/tornado/gen.py\", line 1233, in inner\n    self.run()\n  File \"/data/anaconda/envs/py36/lib/python3.6/site-packages/tornado/gen.py\", line 1147, in run\n    yielded = self.gen.send(value)\n  File \"/data/anaconda/envs/py36/lib/python3.6/site-packages/ipykernel/kernelbase.py\", line 357, in process_one\n    yield gen.maybe_future(dispatch(*args))\n  File \"/data/anaconda/envs/py36/lib/python3.6/site-packages/tornado/gen.py\", line 326, in wrapper\n    yielded = next(result)\n  File \"/data/anaconda/envs/py36/lib/python3.6/site-packages/ipykernel/kernelbase.py\", line 267, in dispatch_shell\n    yield gen.maybe_future(handler(stream, idents, msg))\n  File \"/data/anaconda/envs/py36/lib/python3.6/site-packages/tornado/gen.py\", line 326, in wrapper\n    yielded = next(result)\n  File \"/data/anaconda/envs/py36/lib/python3.6/site-packages/ipykernel/kernelbase.py\", line 534, in execute_request\n    user_expressions, allow_stdin,\n  File \"/data/anaconda/envs/py36/lib/python3.6/site-packages/tornado/gen.py\", line 326, in wrapper\n    yielded = next(result)\n  File \"/data/anaconda/envs/py36/lib/python3.6/site-packages/ipykernel/ipkernel.py\", line 294, in do_execute\n    res = shell.run_cell(code, store_history=store_history, silent=silent)\n  File \"/data/anaconda/envs/py36/lib/python3.6/site-packages/ipykernel/zmqshell.py\", line 536, in run_cell\n    return super(ZMQInteractiveShell, self).run_cell(*args, **kwargs)\n  File \"/data/anaconda/envs/py36/lib/python3.6/site-packages/IPython/core/interactiveshell.py\", line 2819, in run_cell\n    raw_cell, store_history, silent, shell_futures)\n  File \"/data/anaconda/envs/py36/lib/python3.6/site-packages/IPython/core/interactiveshell.py\", line 2845, in _run_cell\n    return runner(coro)\n  File \"/data/anaconda/envs/py36/lib/python3.6/site-packages/IPython/core/async_helpers.py\", line 67, in _pseudo_sync_runner\n    coro.send(None)\n  File \"/data/anaconda/envs/py36/lib/python3.6/site-packages/IPython/core/interactiveshell.py\", line 3020, in run_cell_async\n    interactivity=interactivity, compiler=compiler, result=result)\n  File \"/data/anaconda/envs/py36/lib/python3.6/site-packages/IPython/core/interactiveshell.py\", line 3185, in run_ast_nodes\n    if (yield from self.run_code(code, result)):\n  File \"/data/anaconda/envs/py36/lib/python3.6/site-packages/IPython/core/interactiveshell.py\", line 3267, in run_code\n    exec(code_obj, self.user_global_ns, self.user_ns)\n  File \"<ipython-input-32-881c12f0f0aa>\", line 2, in <module>\n    model.add(Bidirectional(CuDNNLSTM(128,return_sequences=True),input_shape=input_shape))\n  File \"/data/anaconda/envs/py36/lib/python3.6/site-packages/keras/models.py\", line 467, in add\n    layer(x)\n  File \"/data/anaconda/envs/py36/lib/python3.6/site-packages/keras/layers/wrappers.py\", line 324, in __call__\n    return super(Bidirectional, self).__call__(inputs, **kwargs)\n  File \"/data/anaconda/envs/py36/lib/python3.6/site-packages/keras/engine/topology.py\", line 619, in __call__\n    output = self.call(inputs, **kwargs)\n  File \"/data/anaconda/envs/py36/lib/python3.6/site-packages/keras/layers/wrappers.py\", line 384, in call\n    y = self.forward_layer.call(inputs, **kwargs)\n  File \"/data/anaconda/envs/py36/lib/python3.6/site-packages/keras/layers/cudnn_recurrent.py\", line 90, in call\n    output, states = self._process_batch(inputs, initial_state)\n  File \"/data/anaconda/envs/py36/lib/python3.6/site-packages/keras/layers/cudnn_recurrent.py\", line 510, in _process_batch\n    is_training=True)\n  File \"/data/anaconda/envs/py36/lib/python3.6/site-packages/tensorflow/contrib/cudnn_rnn/python/ops/cudnn_rnn_ops.py\", line 1636, in __call__\n    input_data, input_h, input_c, params, is_training=is_training)\n  File \"/data/anaconda/envs/py36/lib/python3.6/site-packages/tensorflow/contrib/cudnn_rnn/python/ops/cudnn_rnn_ops.py\", line 1527, in __call__\n    seed=self._seed)\n  File \"/data/anaconda/envs/py36/lib/python3.6/site-packages/tensorflow/contrib/cudnn_rnn/python/ops/cudnn_rnn_ops.py\", line 1014, in _cudnn_rnn\n    outputs, output_h, output_c, _ = gen_cudnn_rnn_ops.cudnn_rnn(**args)\n  File \"/data/anaconda/envs/py36/lib/python3.6/site-packages/tensorflow/python/ops/gen_cudnn_rnn_ops.py\", line 142, in cudnn_rnn\n    seed2=seed2, is_training=is_training, name=name)\n  File \"/data/anaconda/envs/py36/lib/python3.6/site-packages/tensorflow/python/framework/op_def_library.py\", line 788, in _apply_op_helper\n    op_def=op_def)\n  File \"/data/anaconda/envs/py36/lib/python3.6/site-packages/tensorflow/python/util/deprecation.py\", line 507, in new_func\n    return func(*args, **kwargs)\n  File \"/data/anaconda/envs/py36/lib/python3.6/site-packages/tensorflow/python/framework/ops.py\", line 3300, in create_op\n    op_def=op_def)\n  File \"/data/anaconda/envs/py36/lib/python3.6/site-packages/tensorflow/python/framework/ops.py\", line 1801, in __init__\n    self._traceback = tf_stack.extract_stack()\n\nInvalidArgumentError (see above for traceback): No OpKernel was registered to support Op 'CudnnRNN' used by node bidirectional_1/CudnnRNN (defined at /data/anaconda/envs/py36/lib/python3.6/site-packages/keras/layers/cudnn_recurrent.py:510) with these attrs: [dropout=0, seed=87654321, T=DT_FLOAT, input_mode=\"linear_input\", direction=\"unidirectional\", rnn_mode=\"lstm\", is_training=true, seed2=0]\nRegistered devices: [CPU, XLA_CPU]\nRegistered kernels:\n  <no registered kernels>\n\n\t [[node bidirectional_1/CudnnRNN (defined at /data/anaconda/envs/py36/lib/python3.6/site-packages/keras/layers/cudnn_recurrent.py:510) ]]\n"
     ]
    }
   ],
   "source": [
    "es = EarlyStopping(monitor='val_acc', mode='max', verbose=2, patience=10)\n",
    "x_train, x_val, y_train, y_val = train_test_split(X, Y, test_size=0.1, random_state=101)\n",
    "history = model.fit(np.array(x_train),\n",
    "          y_train,\n",
    "          batch_size=512,\n",
    "          epochs=500,\n",
    "          validation_data=(np.array(x_val), y_val),\n",
    "          callbacks = [es]\n",
    "                   )"
   ]
  },
  {
   "cell_type": "code",
   "execution_count": 29,
   "metadata": {},
   "outputs": [
    {
     "name": "stdout",
     "output_type": "stream",
     "text": [
      "Training LWLRAP : 0.7373\n",
      "Validation LWLRAP : 0.435\n"
     ]
    }
   ],
   "source": [
    "y_train_pred = model.predict(np.array(x_train))\n",
    "y_val_pred = model.predict(np.array(x_val))\n",
    "train_lwlrap = calculate_overall_lwlrap_sklearn(y_train, y_train_pred)\n",
    "val_lwlrap = calculate_overall_lwlrap_sklearn(y_val, y_val_pred)\n",
    "\n",
    "# Check training and validation LWLRAP score\n",
    "print('Training LWLRAP : {}'.format(round(train_lwlrap,4)))\n",
    "print('Validation LWLRAP : {}'.format(round(val_lwlrap,4)))"
   ]
  },
  {
   "cell_type": "code",
   "execution_count": 30,
   "metadata": {},
   "outputs": [
    {
     "data": {
      "application/vnd.jupyter.widget-view+json": {
       "model_id": "79244d56a49c4ef189155f73e4a0f42c",
       "version_major": 2,
       "version_minor": 0
      },
      "text/plain": [
       "HBox(children=(IntProgress(value=1, bar_style='info', max=1), HTML(value='')))"
      ]
     },
     "metadata": {},
     "output_type": "display_data"
    },
    {
     "name": "stdout",
     "output_type": "stream",
     "text": [
      "\n"
     ]
    }
   ],
   "source": [
    "X_test = np.array(convert_wav_to_image(test, [test_path]))\n",
    "predictions = model.predict(np.array(X_test))\n",
    "test[label_columns] = predictions\n",
    "test.to_csv('submission.csv', index=False)"
   ]
  }
 ],
 "metadata": {
  "kernelspec": {
   "display_name": "Python 3.6 - AzureML",
   "language": "python",
   "name": "python3-azureml"
  },
  "language_info": {
   "codemirror_mode": {
    "name": "ipython",
    "version": 3
   },
   "file_extension": ".py",
   "mimetype": "text/x-python",
   "name": "python",
   "nbconvert_exporter": "python",
   "pygments_lexer": "ipython3",
   "version": "3.6.7"
  }
 },
 "nbformat": 4,
 "nbformat_minor": 1
}
